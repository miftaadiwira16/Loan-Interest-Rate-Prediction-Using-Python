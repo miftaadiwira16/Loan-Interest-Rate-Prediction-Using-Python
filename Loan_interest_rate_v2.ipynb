{
  "nbformat": 4,
  "nbformat_minor": 0,
  "metadata": {
    "colab": {
      "name": "Loan_interest_rate_v2.ipynb",
      "provenance": [],
      "collapsed_sections": [],
      "include_colab_link": true
    },
    "kernelspec": {
      "name": "python3",
      "display_name": "Python 3"
    },
    "language_info": {
      "name": "python"
    }
  },
  "cells": [
    {
      "cell_type": "markdown",
      "metadata": {
        "id": "view-in-github",
        "colab_type": "text"
      },
      "source": [
        "<a href=\"https://colab.research.google.com/github/miftaadiwira16/Loan-Interest-Rate-Prediction-Using-Python/blob/main/Loan_interest_rate_v2.ipynb\" target=\"_parent\"><img src=\"https://colab.research.google.com/assets/colab-badge.svg\" alt=\"Open In Colab\"/></a>"
      ]
    },
    {
      "cell_type": "markdown",
      "source": [
        "# Loan Interest Rate Prediction\n",
        "\n",
        "### Created by Mifta Adiwira Jati Jaka\n",
        "\n",
        "### Dataset story\n",
        "\n",
        "Have you ever wondered how lenders use various factors such as credit score, annual income, the loan amount approved, tenure, debt-to-income ratio etc. and select your interest rates?\n",
        "\n",
        "The process, defined as ‘risk-based pricing’, uses a sophisticated algorithm that leverages different determining factors of a loan applicant. Selection of significant factors will help develop a prediction algorithm which can estimate loan interest rates based on clients’ information. On one hand, knowing the factors will help consumers and borrowers to increase their credit worthiness and place themselves in a better position to negotiate for getting a lower interest rate. On the other hand, this will help lending companies to get an immediate fixed interest rate estimation based on clients information. Here, your goal is to use a training dataset to predict the loan rate category (1 / 2 / 3) that will be assigned to each loan in our test set.\n",
        "\n",
        "### Table Column Overview\n",
        "\n",
        "- Loan_ID:\tA unique id for the loan.\n",
        "- Loan_Amount_Requested: The listed amount of the loan applied for by the borrower.\n",
        "- Length_Employed:\tEmployment length in years.\n",
        "- Home_Owner: The home ownership status provided by the borrower during registration. Values are: Rent, Own, Mortgage, Other.\n",
        "- Annual_Income: The annual income provided by the borrower during registration.\n",
        "- Income_Verified: Indicates if income was verified, not verified, or if the income source was verified.\n",
        "- Purpose_Of_Loan: A category provided by the borrower for the loan request. \n",
        "- Debt_To_Income: A ratio calculated using the borrower’s total monthly debt payments on the total debt obligations, excluding mortgage and the requested loan, divided by the borrower’s self-reported monthly income.\n",
        "- Inquiries_Last_6Mo:\tThe number of inquiries by creditors during the past 6 months.\n",
        "- Months_Since_Deliquency: The number of months since the borrower's last delinquency.\n",
        "- Number_Open_Accounts: The number of open credit lines in the borrower's credit file.\n",
        "- Total_Accounts: The total number of credit lines currently in the borrower's credit file.\n",
        "- Gender: Gender.\n",
        "- Interest_Rate: Target Variable: Interest Rate category (1/2/3) of the loan application.\n"
      ],
      "metadata": {
        "id": "H5MGygmILB68"
      }
    },
    {
      "cell_type": "code",
      "source": [
        "!pip install datasist\n",
        "!pip install --upgrade pandas\n",
        "!pip install --upgrade numpy\n",
        "!pip install --upgrade scipy\n",
        "!pip install --upgrade scikit-learn\n",
        "!pip install matplotlib==3.4\n",
        "!pip install --upgrade seaborn\n",
        "!pip install inflection\n",
        "!pip install xgboost\n",
        "!pip install lightgbm\n",
        "!pip install catboost"
      ],
      "metadata": {
        "id": "wUVrvyCGy2w8"
      },
      "execution_count": null,
      "outputs": []
    },
    {
      "cell_type": "markdown",
      "source": [
        "## Import Library"
      ],
      "metadata": {
        "id": "RtWwafRJ1Zy4"
      }
    },
    {
      "cell_type": "code",
      "source": [
        "#Import library\n",
        "import pandas as pd\n",
        "import numpy as np\n",
        "import datasist as ds\n",
        "\n",
        "#Import visualization library\n",
        "import matplotlib.pyplot as plt\n",
        "import seaborn as sns\n",
        "\n",
        "#import model\n",
        "import catboost as cb\n",
        "import xgboost as xgb\n",
        "import lightgbm as lgbm\n",
        "\n",
        "#import sklearn\n",
        "from sklearn.impute import SimpleImputer\n",
        "from imblearn.over_sampling import RandomOverSampler\n",
        "from sklearn.model_selection import train_test_split\n",
        "from sklearn.model_selection import train_test_split, GridSearchCV\n",
        "from sklearn.preprocessing import LabelEncoder\n",
        "from sklearn.metrics import accuracy_score\n",
        "from sklearn.metrics import precision_score\n",
        "from sklearn.metrics import recall_score\n",
        "from sklearn.metrics import confusion_matrix\n",
        "from sklearn.metrics import plot_confusion_matrix\n",
        "from imblearn.metrics import sensitivity_specificity_support\n",
        "from imblearn.over_sampling import SMOTE\n",
        "from sklearn.preprocessing import LabelEncoder, OneHotEncoder\n",
        "import inflection\n",
        "from sklearn.metrics import classification_report\n",
        "from catboost import CatBoostClassifier\n",
        "from xgboost import XGBClassifier\n",
        "from lightgbm import LGBMClassifier\n",
        "from sklearn.ensemble import RandomForestClassifier"
      ],
      "metadata": {
        "id": "_XPeKbTSjdRA"
      },
      "execution_count": 134,
      "outputs": []
    },
    {
      "cell_type": "markdown",
      "source": [
        "## Load dataset"
      ],
      "metadata": {
        "id": "bkYAVtA11cx_"
      }
    },
    {
      "cell_type": "code",
      "source": [
        "loan_df = pd.read_csv('https://raw.githubusercontent.com/miftaadiwira16/datasets/main/Train.csv')\n",
        "loan_df.head()"
      ],
      "metadata": {
        "colab": {
          "base_uri": "https://localhost:8080/",
          "height": 206
        },
        "id": "Gd2X3sOSji_B",
        "outputId": "88a79aa9-007b-4ac8-a7ac-08dccb2bb01e"
      },
      "execution_count": 135,
      "outputs": [
        {
          "output_type": "execute_result",
          "data": {
            "text/plain": [
              "    Loan_ID Loan_Amount_Requested Length_Employed Home_Owner  Annual_Income  \\\n",
              "0  10000001                 7,000        < 1 year       Rent        68000.0   \n",
              "1  10000002                30,000         4 years   Mortgage            NaN   \n",
              "2  10000003                24,725         7 years   Mortgage        75566.4   \n",
              "3  10000004                16,000        < 1 year        NaN        56160.0   \n",
              "4  10000005                17,000         8 years        Own        96000.0   \n",
              "\n",
              "            Income_Verified     Purpose_Of_Loan  Debt_To_Income  \\\n",
              "0              not verified                 car           18.37   \n",
              "1         VERIFIED - income  debt_consolidation           14.93   \n",
              "2  VERIFIED - income source  debt_consolidation           15.88   \n",
              "3  VERIFIED - income source  debt_consolidation           14.34   \n",
              "4  VERIFIED - income source  debt_consolidation           22.17   \n",
              "\n",
              "   Inquiries_Last_6Mo  Months_Since_Deliquency  Number_Open_Accounts  \\\n",
              "0                   0                      NaN                     9   \n",
              "1                   0                     17.0                    12   \n",
              "2                   0                      NaN                    12   \n",
              "3                   3                      NaN                    16   \n",
              "4                   1                      NaN                    19   \n",
              "\n",
              "   Total_Accounts  Gender  Interest_Rate  \n",
              "0              14  Female              1  \n",
              "1              24  Female              3  \n",
              "2              16    Male              3  \n",
              "3              22    Male              3  \n",
              "4              30  Female              1  "
            ],
            "text/html": [
              "\n",
              "  <div id=\"df-dd72371b-23e6-44a3-b3f8-14248b0c5216\">\n",
              "    <div class=\"colab-df-container\">\n",
              "      <div>\n",
              "<style scoped>\n",
              "    .dataframe tbody tr th:only-of-type {\n",
              "        vertical-align: middle;\n",
              "    }\n",
              "\n",
              "    .dataframe tbody tr th {\n",
              "        vertical-align: top;\n",
              "    }\n",
              "\n",
              "    .dataframe thead th {\n",
              "        text-align: right;\n",
              "    }\n",
              "</style>\n",
              "<table border=\"1\" class=\"dataframe\">\n",
              "  <thead>\n",
              "    <tr style=\"text-align: right;\">\n",
              "      <th></th>\n",
              "      <th>Loan_ID</th>\n",
              "      <th>Loan_Amount_Requested</th>\n",
              "      <th>Length_Employed</th>\n",
              "      <th>Home_Owner</th>\n",
              "      <th>Annual_Income</th>\n",
              "      <th>Income_Verified</th>\n",
              "      <th>Purpose_Of_Loan</th>\n",
              "      <th>Debt_To_Income</th>\n",
              "      <th>Inquiries_Last_6Mo</th>\n",
              "      <th>Months_Since_Deliquency</th>\n",
              "      <th>Number_Open_Accounts</th>\n",
              "      <th>Total_Accounts</th>\n",
              "      <th>Gender</th>\n",
              "      <th>Interest_Rate</th>\n",
              "    </tr>\n",
              "  </thead>\n",
              "  <tbody>\n",
              "    <tr>\n",
              "      <th>0</th>\n",
              "      <td>10000001</td>\n",
              "      <td>7,000</td>\n",
              "      <td>&lt; 1 year</td>\n",
              "      <td>Rent</td>\n",
              "      <td>68000.0</td>\n",
              "      <td>not verified</td>\n",
              "      <td>car</td>\n",
              "      <td>18.37</td>\n",
              "      <td>0</td>\n",
              "      <td>NaN</td>\n",
              "      <td>9</td>\n",
              "      <td>14</td>\n",
              "      <td>Female</td>\n",
              "      <td>1</td>\n",
              "    </tr>\n",
              "    <tr>\n",
              "      <th>1</th>\n",
              "      <td>10000002</td>\n",
              "      <td>30,000</td>\n",
              "      <td>4 years</td>\n",
              "      <td>Mortgage</td>\n",
              "      <td>NaN</td>\n",
              "      <td>VERIFIED - income</td>\n",
              "      <td>debt_consolidation</td>\n",
              "      <td>14.93</td>\n",
              "      <td>0</td>\n",
              "      <td>17.0</td>\n",
              "      <td>12</td>\n",
              "      <td>24</td>\n",
              "      <td>Female</td>\n",
              "      <td>3</td>\n",
              "    </tr>\n",
              "    <tr>\n",
              "      <th>2</th>\n",
              "      <td>10000003</td>\n",
              "      <td>24,725</td>\n",
              "      <td>7 years</td>\n",
              "      <td>Mortgage</td>\n",
              "      <td>75566.4</td>\n",
              "      <td>VERIFIED - income source</td>\n",
              "      <td>debt_consolidation</td>\n",
              "      <td>15.88</td>\n",
              "      <td>0</td>\n",
              "      <td>NaN</td>\n",
              "      <td>12</td>\n",
              "      <td>16</td>\n",
              "      <td>Male</td>\n",
              "      <td>3</td>\n",
              "    </tr>\n",
              "    <tr>\n",
              "      <th>3</th>\n",
              "      <td>10000004</td>\n",
              "      <td>16,000</td>\n",
              "      <td>&lt; 1 year</td>\n",
              "      <td>NaN</td>\n",
              "      <td>56160.0</td>\n",
              "      <td>VERIFIED - income source</td>\n",
              "      <td>debt_consolidation</td>\n",
              "      <td>14.34</td>\n",
              "      <td>3</td>\n",
              "      <td>NaN</td>\n",
              "      <td>16</td>\n",
              "      <td>22</td>\n",
              "      <td>Male</td>\n",
              "      <td>3</td>\n",
              "    </tr>\n",
              "    <tr>\n",
              "      <th>4</th>\n",
              "      <td>10000005</td>\n",
              "      <td>17,000</td>\n",
              "      <td>8 years</td>\n",
              "      <td>Own</td>\n",
              "      <td>96000.0</td>\n",
              "      <td>VERIFIED - income source</td>\n",
              "      <td>debt_consolidation</td>\n",
              "      <td>22.17</td>\n",
              "      <td>1</td>\n",
              "      <td>NaN</td>\n",
              "      <td>19</td>\n",
              "      <td>30</td>\n",
              "      <td>Female</td>\n",
              "      <td>1</td>\n",
              "    </tr>\n",
              "  </tbody>\n",
              "</table>\n",
              "</div>\n",
              "      <button class=\"colab-df-convert\" onclick=\"convertToInteractive('df-dd72371b-23e6-44a3-b3f8-14248b0c5216')\"\n",
              "              title=\"Convert this dataframe to an interactive table.\"\n",
              "              style=\"display:none;\">\n",
              "        \n",
              "  <svg xmlns=\"http://www.w3.org/2000/svg\" height=\"24px\"viewBox=\"0 0 24 24\"\n",
              "       width=\"24px\">\n",
              "    <path d=\"M0 0h24v24H0V0z\" fill=\"none\"/>\n",
              "    <path d=\"M18.56 5.44l.94 2.06.94-2.06 2.06-.94-2.06-.94-.94-2.06-.94 2.06-2.06.94zm-11 1L8.5 8.5l.94-2.06 2.06-.94-2.06-.94L8.5 2.5l-.94 2.06-2.06.94zm10 10l.94 2.06.94-2.06 2.06-.94-2.06-.94-.94-2.06-.94 2.06-2.06.94z\"/><path d=\"M17.41 7.96l-1.37-1.37c-.4-.4-.92-.59-1.43-.59-.52 0-1.04.2-1.43.59L10.3 9.45l-7.72 7.72c-.78.78-.78 2.05 0 2.83L4 21.41c.39.39.9.59 1.41.59.51 0 1.02-.2 1.41-.59l7.78-7.78 2.81-2.81c.8-.78.8-2.07 0-2.86zM5.41 20L4 18.59l7.72-7.72 1.47 1.35L5.41 20z\"/>\n",
              "  </svg>\n",
              "      </button>\n",
              "      \n",
              "  <style>\n",
              "    .colab-df-container {\n",
              "      display:flex;\n",
              "      flex-wrap:wrap;\n",
              "      gap: 12px;\n",
              "    }\n",
              "\n",
              "    .colab-df-convert {\n",
              "      background-color: #E8F0FE;\n",
              "      border: none;\n",
              "      border-radius: 50%;\n",
              "      cursor: pointer;\n",
              "      display: none;\n",
              "      fill: #1967D2;\n",
              "      height: 32px;\n",
              "      padding: 0 0 0 0;\n",
              "      width: 32px;\n",
              "    }\n",
              "\n",
              "    .colab-df-convert:hover {\n",
              "      background-color: #E2EBFA;\n",
              "      box-shadow: 0px 1px 2px rgba(60, 64, 67, 0.3), 0px 1px 3px 1px rgba(60, 64, 67, 0.15);\n",
              "      fill: #174EA6;\n",
              "    }\n",
              "\n",
              "    [theme=dark] .colab-df-convert {\n",
              "      background-color: #3B4455;\n",
              "      fill: #D2E3FC;\n",
              "    }\n",
              "\n",
              "    [theme=dark] .colab-df-convert:hover {\n",
              "      background-color: #434B5C;\n",
              "      box-shadow: 0px 1px 3px 1px rgba(0, 0, 0, 0.15);\n",
              "      filter: drop-shadow(0px 1px 2px rgba(0, 0, 0, 0.3));\n",
              "      fill: #FFFFFF;\n",
              "    }\n",
              "  </style>\n",
              "\n",
              "      <script>\n",
              "        const buttonEl =\n",
              "          document.querySelector('#df-dd72371b-23e6-44a3-b3f8-14248b0c5216 button.colab-df-convert');\n",
              "        buttonEl.style.display =\n",
              "          google.colab.kernel.accessAllowed ? 'block' : 'none';\n",
              "\n",
              "        async function convertToInteractive(key) {\n",
              "          const element = document.querySelector('#df-dd72371b-23e6-44a3-b3f8-14248b0c5216');\n",
              "          const dataTable =\n",
              "            await google.colab.kernel.invokeFunction('convertToInteractive',\n",
              "                                                     [key], {});\n",
              "          if (!dataTable) return;\n",
              "\n",
              "          const docLinkHtml = 'Like what you see? Visit the ' +\n",
              "            '<a target=\"_blank\" href=https://colab.research.google.com/notebooks/data_table.ipynb>data table notebook</a>'\n",
              "            + ' to learn more about interactive tables.';\n",
              "          element.innerHTML = '';\n",
              "          dataTable['output_type'] = 'display_data';\n",
              "          await google.colab.output.renderOutput(dataTable, element);\n",
              "          const docLink = document.createElement('div');\n",
              "          docLink.innerHTML = docLinkHtml;\n",
              "          element.appendChild(docLink);\n",
              "        }\n",
              "      </script>\n",
              "    </div>\n",
              "  </div>\n",
              "  "
            ]
          },
          "metadata": {},
          "execution_count": 135
        }
      ]
    },
    {
      "cell_type": "code",
      "source": [
        "loan_df.tail()"
      ],
      "metadata": {
        "colab": {
          "base_uri": "https://localhost:8080/",
          "height": 206
        },
        "id": "QyzcoRtvjkaN",
        "outputId": "9526fe21-265d-4c5e-bb4d-9f6ecbf15149"
      },
      "execution_count": 136,
      "outputs": [
        {
          "output_type": "execute_result",
          "data": {
            "text/plain": [
              "         Loan_ID Loan_Amount_Requested Length_Employed Home_Owner  \\\n",
              "164304  10164305                20,725       10+ years       Rent   \n",
              "164305  10164306                 6,000         8 years        Own   \n",
              "164306  10164307                20,250       10+ years   Mortgage   \n",
              "164307  10164308                10,000         4 years       Rent   \n",
              "164308  10164309                 9,250       10+ years       Rent   \n",
              "\n",
              "        Annual_Income           Income_Verified Purpose_Of_Loan  \\\n",
              "164304            NaN  VERIFIED - income source     credit_card   \n",
              "164305            NaN  VERIFIED - income source  small_business   \n",
              "164306            NaN         VERIFIED - income     credit_card   \n",
              "164307            NaN              not verified  major_purchase   \n",
              "164308            NaN         VERIFIED - income     credit_card   \n",
              "\n",
              "        Debt_To_Income  Inquiries_Last_6Mo  Months_Since_Deliquency  \\\n",
              "164304           13.56                   0                      NaN   \n",
              "164305            9.12                   0                     36.0   \n",
              "164306           18.17                   1                      NaN   \n",
              "164307           18.75                   1                     48.0   \n",
              "164308           19.44                   1                      NaN   \n",
              "\n",
              "        Number_Open_Accounts  Total_Accounts  Gender  Interest_Rate  \n",
              "164304                    13              16    Male              2  \n",
              "164305                    13              30    Male              2  \n",
              "164306                    17              30    Male              1  \n",
              "164307                    16              62  Female              3  \n",
              "164308                     5               9  Female              2  "
            ],
            "text/html": [
              "\n",
              "  <div id=\"df-5e05d16e-e8a8-4c8f-b25c-0db59a6c2f14\">\n",
              "    <div class=\"colab-df-container\">\n",
              "      <div>\n",
              "<style scoped>\n",
              "    .dataframe tbody tr th:only-of-type {\n",
              "        vertical-align: middle;\n",
              "    }\n",
              "\n",
              "    .dataframe tbody tr th {\n",
              "        vertical-align: top;\n",
              "    }\n",
              "\n",
              "    .dataframe thead th {\n",
              "        text-align: right;\n",
              "    }\n",
              "</style>\n",
              "<table border=\"1\" class=\"dataframe\">\n",
              "  <thead>\n",
              "    <tr style=\"text-align: right;\">\n",
              "      <th></th>\n",
              "      <th>Loan_ID</th>\n",
              "      <th>Loan_Amount_Requested</th>\n",
              "      <th>Length_Employed</th>\n",
              "      <th>Home_Owner</th>\n",
              "      <th>Annual_Income</th>\n",
              "      <th>Income_Verified</th>\n",
              "      <th>Purpose_Of_Loan</th>\n",
              "      <th>Debt_To_Income</th>\n",
              "      <th>Inquiries_Last_6Mo</th>\n",
              "      <th>Months_Since_Deliquency</th>\n",
              "      <th>Number_Open_Accounts</th>\n",
              "      <th>Total_Accounts</th>\n",
              "      <th>Gender</th>\n",
              "      <th>Interest_Rate</th>\n",
              "    </tr>\n",
              "  </thead>\n",
              "  <tbody>\n",
              "    <tr>\n",
              "      <th>164304</th>\n",
              "      <td>10164305</td>\n",
              "      <td>20,725</td>\n",
              "      <td>10+ years</td>\n",
              "      <td>Rent</td>\n",
              "      <td>NaN</td>\n",
              "      <td>VERIFIED - income source</td>\n",
              "      <td>credit_card</td>\n",
              "      <td>13.56</td>\n",
              "      <td>0</td>\n",
              "      <td>NaN</td>\n",
              "      <td>13</td>\n",
              "      <td>16</td>\n",
              "      <td>Male</td>\n",
              "      <td>2</td>\n",
              "    </tr>\n",
              "    <tr>\n",
              "      <th>164305</th>\n",
              "      <td>10164306</td>\n",
              "      <td>6,000</td>\n",
              "      <td>8 years</td>\n",
              "      <td>Own</td>\n",
              "      <td>NaN</td>\n",
              "      <td>VERIFIED - income source</td>\n",
              "      <td>small_business</td>\n",
              "      <td>9.12</td>\n",
              "      <td>0</td>\n",
              "      <td>36.0</td>\n",
              "      <td>13</td>\n",
              "      <td>30</td>\n",
              "      <td>Male</td>\n",
              "      <td>2</td>\n",
              "    </tr>\n",
              "    <tr>\n",
              "      <th>164306</th>\n",
              "      <td>10164307</td>\n",
              "      <td>20,250</td>\n",
              "      <td>10+ years</td>\n",
              "      <td>Mortgage</td>\n",
              "      <td>NaN</td>\n",
              "      <td>VERIFIED - income</td>\n",
              "      <td>credit_card</td>\n",
              "      <td>18.17</td>\n",
              "      <td>1</td>\n",
              "      <td>NaN</td>\n",
              "      <td>17</td>\n",
              "      <td>30</td>\n",
              "      <td>Male</td>\n",
              "      <td>1</td>\n",
              "    </tr>\n",
              "    <tr>\n",
              "      <th>164307</th>\n",
              "      <td>10164308</td>\n",
              "      <td>10,000</td>\n",
              "      <td>4 years</td>\n",
              "      <td>Rent</td>\n",
              "      <td>NaN</td>\n",
              "      <td>not verified</td>\n",
              "      <td>major_purchase</td>\n",
              "      <td>18.75</td>\n",
              "      <td>1</td>\n",
              "      <td>48.0</td>\n",
              "      <td>16</td>\n",
              "      <td>62</td>\n",
              "      <td>Female</td>\n",
              "      <td>3</td>\n",
              "    </tr>\n",
              "    <tr>\n",
              "      <th>164308</th>\n",
              "      <td>10164309</td>\n",
              "      <td>9,250</td>\n",
              "      <td>10+ years</td>\n",
              "      <td>Rent</td>\n",
              "      <td>NaN</td>\n",
              "      <td>VERIFIED - income</td>\n",
              "      <td>credit_card</td>\n",
              "      <td>19.44</td>\n",
              "      <td>1</td>\n",
              "      <td>NaN</td>\n",
              "      <td>5</td>\n",
              "      <td>9</td>\n",
              "      <td>Female</td>\n",
              "      <td>2</td>\n",
              "    </tr>\n",
              "  </tbody>\n",
              "</table>\n",
              "</div>\n",
              "      <button class=\"colab-df-convert\" onclick=\"convertToInteractive('df-5e05d16e-e8a8-4c8f-b25c-0db59a6c2f14')\"\n",
              "              title=\"Convert this dataframe to an interactive table.\"\n",
              "              style=\"display:none;\">\n",
              "        \n",
              "  <svg xmlns=\"http://www.w3.org/2000/svg\" height=\"24px\"viewBox=\"0 0 24 24\"\n",
              "       width=\"24px\">\n",
              "    <path d=\"M0 0h24v24H0V0z\" fill=\"none\"/>\n",
              "    <path d=\"M18.56 5.44l.94 2.06.94-2.06 2.06-.94-2.06-.94-.94-2.06-.94 2.06-2.06.94zm-11 1L8.5 8.5l.94-2.06 2.06-.94-2.06-.94L8.5 2.5l-.94 2.06-2.06.94zm10 10l.94 2.06.94-2.06 2.06-.94-2.06-.94-.94-2.06-.94 2.06-2.06.94z\"/><path d=\"M17.41 7.96l-1.37-1.37c-.4-.4-.92-.59-1.43-.59-.52 0-1.04.2-1.43.59L10.3 9.45l-7.72 7.72c-.78.78-.78 2.05 0 2.83L4 21.41c.39.39.9.59 1.41.59.51 0 1.02-.2 1.41-.59l7.78-7.78 2.81-2.81c.8-.78.8-2.07 0-2.86zM5.41 20L4 18.59l7.72-7.72 1.47 1.35L5.41 20z\"/>\n",
              "  </svg>\n",
              "      </button>\n",
              "      \n",
              "  <style>\n",
              "    .colab-df-container {\n",
              "      display:flex;\n",
              "      flex-wrap:wrap;\n",
              "      gap: 12px;\n",
              "    }\n",
              "\n",
              "    .colab-df-convert {\n",
              "      background-color: #E8F0FE;\n",
              "      border: none;\n",
              "      border-radius: 50%;\n",
              "      cursor: pointer;\n",
              "      display: none;\n",
              "      fill: #1967D2;\n",
              "      height: 32px;\n",
              "      padding: 0 0 0 0;\n",
              "      width: 32px;\n",
              "    }\n",
              "\n",
              "    .colab-df-convert:hover {\n",
              "      background-color: #E2EBFA;\n",
              "      box-shadow: 0px 1px 2px rgba(60, 64, 67, 0.3), 0px 1px 3px 1px rgba(60, 64, 67, 0.15);\n",
              "      fill: #174EA6;\n",
              "    }\n",
              "\n",
              "    [theme=dark] .colab-df-convert {\n",
              "      background-color: #3B4455;\n",
              "      fill: #D2E3FC;\n",
              "    }\n",
              "\n",
              "    [theme=dark] .colab-df-convert:hover {\n",
              "      background-color: #434B5C;\n",
              "      box-shadow: 0px 1px 3px 1px rgba(0, 0, 0, 0.15);\n",
              "      filter: drop-shadow(0px 1px 2px rgba(0, 0, 0, 0.3));\n",
              "      fill: #FFFFFF;\n",
              "    }\n",
              "  </style>\n",
              "\n",
              "      <script>\n",
              "        const buttonEl =\n",
              "          document.querySelector('#df-5e05d16e-e8a8-4c8f-b25c-0db59a6c2f14 button.colab-df-convert');\n",
              "        buttonEl.style.display =\n",
              "          google.colab.kernel.accessAllowed ? 'block' : 'none';\n",
              "\n",
              "        async function convertToInteractive(key) {\n",
              "          const element = document.querySelector('#df-5e05d16e-e8a8-4c8f-b25c-0db59a6c2f14');\n",
              "          const dataTable =\n",
              "            await google.colab.kernel.invokeFunction('convertToInteractive',\n",
              "                                                     [key], {});\n",
              "          if (!dataTable) return;\n",
              "\n",
              "          const docLinkHtml = 'Like what you see? Visit the ' +\n",
              "            '<a target=\"_blank\" href=https://colab.research.google.com/notebooks/data_table.ipynb>data table notebook</a>'\n",
              "            + ' to learn more about interactive tables.';\n",
              "          element.innerHTML = '';\n",
              "          dataTable['output_type'] = 'display_data';\n",
              "          await google.colab.output.renderOutput(dataTable, element);\n",
              "          const docLink = document.createElement('div');\n",
              "          docLink.innerHTML = docLinkHtml;\n",
              "          element.appendChild(docLink);\n",
              "        }\n",
              "      </script>\n",
              "    </div>\n",
              "  </div>\n",
              "  "
            ]
          },
          "metadata": {},
          "execution_count": 136
        }
      ]
    },
    {
      "cell_type": "markdown",
      "source": [
        "From this information above, we know this dataset have 164308 data."
      ],
      "metadata": {
        "id": "v0KMagDNHMlS"
      }
    },
    {
      "cell_type": "markdown",
      "source": [
        "## Exploratory Data Analysis"
      ],
      "metadata": {
        "id": "lhBanOtR8m34"
      }
    },
    {
      "cell_type": "code",
      "source": [
        "loan_df.isnull().sum()"
      ],
      "metadata": {
        "colab": {
          "base_uri": "https://localhost:8080/"
        },
        "id": "yvOLg4mI8yAQ",
        "outputId": "97779566-f1c0-4a7b-8592-f85c369955e1"
      },
      "execution_count": 137,
      "outputs": [
        {
          "output_type": "execute_result",
          "data": {
            "text/plain": [
              "Loan_ID                        0\n",
              "Loan_Amount_Requested          0\n",
              "Length_Employed             7371\n",
              "Home_Owner                 25349\n",
              "Annual_Income              25102\n",
              "Income_Verified                0\n",
              "Purpose_Of_Loan                0\n",
              "Debt_To_Income                 0\n",
              "Inquiries_Last_6Mo             0\n",
              "Months_Since_Deliquency    88379\n",
              "Number_Open_Accounts           0\n",
              "Total_Accounts                 0\n",
              "Gender                         0\n",
              "Interest_Rate                  0\n",
              "dtype: int64"
            ]
          },
          "metadata": {},
          "execution_count": 137
        }
      ]
    },
    {
      "cell_type": "code",
      "source": [
        "loan_df.info()"
      ],
      "metadata": {
        "colab": {
          "base_uri": "https://localhost:8080/"
        },
        "id": "2WlFciY1jnGx",
        "outputId": "5e4113a2-0386-4977-ff76-503099b67d80"
      },
      "execution_count": 138,
      "outputs": [
        {
          "output_type": "stream",
          "name": "stdout",
          "text": [
            "<class 'pandas.core.frame.DataFrame'>\n",
            "RangeIndex: 164309 entries, 0 to 164308\n",
            "Data columns (total 14 columns):\n",
            " #   Column                   Non-Null Count   Dtype  \n",
            "---  ------                   --------------   -----  \n",
            " 0   Loan_ID                  164309 non-null  int64  \n",
            " 1   Loan_Amount_Requested    164309 non-null  object \n",
            " 2   Length_Employed          156938 non-null  object \n",
            " 3   Home_Owner               138960 non-null  object \n",
            " 4   Annual_Income            139207 non-null  float64\n",
            " 5   Income_Verified          164309 non-null  object \n",
            " 6   Purpose_Of_Loan          164309 non-null  object \n",
            " 7   Debt_To_Income           164309 non-null  float64\n",
            " 8   Inquiries_Last_6Mo       164309 non-null  int64  \n",
            " 9   Months_Since_Deliquency  75930 non-null   float64\n",
            " 10  Number_Open_Accounts     164309 non-null  int64  \n",
            " 11  Total_Accounts           164309 non-null  int64  \n",
            " 12  Gender                   164309 non-null  object \n",
            " 13  Interest_Rate            164309 non-null  int64  \n",
            "dtypes: float64(3), int64(5), object(6)\n",
            "memory usage: 17.6+ MB\n"
          ]
        }
      ]
    },
    {
      "cell_type": "markdown",
      "source": [
        "It appears there's column (Loan_Amount_Requested) that has to be numerical but it's considered as categorical. So, I decide to change the datatype into numerical."
      ],
      "metadata": {
        "id": "UXAI7YXJNCZ5"
      }
    },
    {
      "cell_type": "code",
      "source": [
        "loan_df['Loan_Amount_Requested'] = loan_df['Loan_Amount_Requested'].str.replace(',','')\n",
        "loan_df['Loan_Amount_Requested'] = pd.to_numeric(loan_df['Loan_Amount_Requested'], errors='coerce')"
      ],
      "metadata": {
        "id": "0IKl9wjENA8W"
      },
      "execution_count": 139,
      "outputs": []
    },
    {
      "cell_type": "code",
      "source": [
        "#exclude the unnamed variable\n",
        "df = loan_df\n",
        "\n",
        "#show null values and its percentage\n",
        "null_val = pd.DataFrame(df.dtypes).T.rename(index = {0:'Columns Type'})\n",
        "null_val = null_val.append(pd.DataFrame(df.isnull().sum()).T.rename(index = {0:'Amount of Null Values'}))\n",
        "null_val = null_val.append(pd.DataFrame(round(df.isnull().sum()/df.shape[0]*100,2)).T.rename(index = {0:'Percentage of Null Values'}))\n",
        "null_val"
      ],
      "metadata": {
        "colab": {
          "base_uri": "https://localhost:8080/",
          "height": 144
        },
        "id": "YgfDVBkmmhD0",
        "outputId": "0b7edc97-738a-417b-d946-613e0d4b4d77"
      },
      "execution_count": 140,
      "outputs": [
        {
          "output_type": "execute_result",
          "data": {
            "text/plain": [
              "                          Loan_ID Loan_Amount_Requested Length_Employed  \\\n",
              "Columns Type                int64                 int64          object   \n",
              "Amount of Null Values           0                     0            7371   \n",
              "Percentage of Null Values     0.0                   0.0            4.49   \n",
              "\n",
              "                          Home_Owner Annual_Income Income_Verified  \\\n",
              "Columns Type                  object       float64          object   \n",
              "Amount of Null Values          25349         25102               0   \n",
              "Percentage of Null Values      15.43         15.28             0.0   \n",
              "\n",
              "                          Purpose_Of_Loan Debt_To_Income Inquiries_Last_6Mo  \\\n",
              "Columns Type                       object        float64              int64   \n",
              "Amount of Null Values                   0              0                  0   \n",
              "Percentage of Null Values             0.0            0.0                0.0   \n",
              "\n",
              "                          Months_Since_Deliquency Number_Open_Accounts  \\\n",
              "Columns Type                              float64                int64   \n",
              "Amount of Null Values                       88379                    0   \n",
              "Percentage of Null Values                   53.79                  0.0   \n",
              "\n",
              "                          Total_Accounts  Gender Interest_Rate  \n",
              "Columns Type                       int64  object         int64  \n",
              "Amount of Null Values                  0       0             0  \n",
              "Percentage of Null Values            0.0     0.0           0.0  "
            ],
            "text/html": [
              "\n",
              "  <div id=\"df-4a97af2f-35bb-4709-b74f-4642223dcdbc\">\n",
              "    <div class=\"colab-df-container\">\n",
              "      <div>\n",
              "<style scoped>\n",
              "    .dataframe tbody tr th:only-of-type {\n",
              "        vertical-align: middle;\n",
              "    }\n",
              "\n",
              "    .dataframe tbody tr th {\n",
              "        vertical-align: top;\n",
              "    }\n",
              "\n",
              "    .dataframe thead th {\n",
              "        text-align: right;\n",
              "    }\n",
              "</style>\n",
              "<table border=\"1\" class=\"dataframe\">\n",
              "  <thead>\n",
              "    <tr style=\"text-align: right;\">\n",
              "      <th></th>\n",
              "      <th>Loan_ID</th>\n",
              "      <th>Loan_Amount_Requested</th>\n",
              "      <th>Length_Employed</th>\n",
              "      <th>Home_Owner</th>\n",
              "      <th>Annual_Income</th>\n",
              "      <th>Income_Verified</th>\n",
              "      <th>Purpose_Of_Loan</th>\n",
              "      <th>Debt_To_Income</th>\n",
              "      <th>Inquiries_Last_6Mo</th>\n",
              "      <th>Months_Since_Deliquency</th>\n",
              "      <th>Number_Open_Accounts</th>\n",
              "      <th>Total_Accounts</th>\n",
              "      <th>Gender</th>\n",
              "      <th>Interest_Rate</th>\n",
              "    </tr>\n",
              "  </thead>\n",
              "  <tbody>\n",
              "    <tr>\n",
              "      <th>Columns Type</th>\n",
              "      <td>int64</td>\n",
              "      <td>int64</td>\n",
              "      <td>object</td>\n",
              "      <td>object</td>\n",
              "      <td>float64</td>\n",
              "      <td>object</td>\n",
              "      <td>object</td>\n",
              "      <td>float64</td>\n",
              "      <td>int64</td>\n",
              "      <td>float64</td>\n",
              "      <td>int64</td>\n",
              "      <td>int64</td>\n",
              "      <td>object</td>\n",
              "      <td>int64</td>\n",
              "    </tr>\n",
              "    <tr>\n",
              "      <th>Amount of Null Values</th>\n",
              "      <td>0</td>\n",
              "      <td>0</td>\n",
              "      <td>7371</td>\n",
              "      <td>25349</td>\n",
              "      <td>25102</td>\n",
              "      <td>0</td>\n",
              "      <td>0</td>\n",
              "      <td>0</td>\n",
              "      <td>0</td>\n",
              "      <td>88379</td>\n",
              "      <td>0</td>\n",
              "      <td>0</td>\n",
              "      <td>0</td>\n",
              "      <td>0</td>\n",
              "    </tr>\n",
              "    <tr>\n",
              "      <th>Percentage of Null Values</th>\n",
              "      <td>0.0</td>\n",
              "      <td>0.0</td>\n",
              "      <td>4.49</td>\n",
              "      <td>15.43</td>\n",
              "      <td>15.28</td>\n",
              "      <td>0.0</td>\n",
              "      <td>0.0</td>\n",
              "      <td>0.0</td>\n",
              "      <td>0.0</td>\n",
              "      <td>53.79</td>\n",
              "      <td>0.0</td>\n",
              "      <td>0.0</td>\n",
              "      <td>0.0</td>\n",
              "      <td>0.0</td>\n",
              "    </tr>\n",
              "  </tbody>\n",
              "</table>\n",
              "</div>\n",
              "      <button class=\"colab-df-convert\" onclick=\"convertToInteractive('df-4a97af2f-35bb-4709-b74f-4642223dcdbc')\"\n",
              "              title=\"Convert this dataframe to an interactive table.\"\n",
              "              style=\"display:none;\">\n",
              "        \n",
              "  <svg xmlns=\"http://www.w3.org/2000/svg\" height=\"24px\"viewBox=\"0 0 24 24\"\n",
              "       width=\"24px\">\n",
              "    <path d=\"M0 0h24v24H0V0z\" fill=\"none\"/>\n",
              "    <path d=\"M18.56 5.44l.94 2.06.94-2.06 2.06-.94-2.06-.94-.94-2.06-.94 2.06-2.06.94zm-11 1L8.5 8.5l.94-2.06 2.06-.94-2.06-.94L8.5 2.5l-.94 2.06-2.06.94zm10 10l.94 2.06.94-2.06 2.06-.94-2.06-.94-.94-2.06-.94 2.06-2.06.94z\"/><path d=\"M17.41 7.96l-1.37-1.37c-.4-.4-.92-.59-1.43-.59-.52 0-1.04.2-1.43.59L10.3 9.45l-7.72 7.72c-.78.78-.78 2.05 0 2.83L4 21.41c.39.39.9.59 1.41.59.51 0 1.02-.2 1.41-.59l7.78-7.78 2.81-2.81c.8-.78.8-2.07 0-2.86zM5.41 20L4 18.59l7.72-7.72 1.47 1.35L5.41 20z\"/>\n",
              "  </svg>\n",
              "      </button>\n",
              "      \n",
              "  <style>\n",
              "    .colab-df-container {\n",
              "      display:flex;\n",
              "      flex-wrap:wrap;\n",
              "      gap: 12px;\n",
              "    }\n",
              "\n",
              "    .colab-df-convert {\n",
              "      background-color: #E8F0FE;\n",
              "      border: none;\n",
              "      border-radius: 50%;\n",
              "      cursor: pointer;\n",
              "      display: none;\n",
              "      fill: #1967D2;\n",
              "      height: 32px;\n",
              "      padding: 0 0 0 0;\n",
              "      width: 32px;\n",
              "    }\n",
              "\n",
              "    .colab-df-convert:hover {\n",
              "      background-color: #E2EBFA;\n",
              "      box-shadow: 0px 1px 2px rgba(60, 64, 67, 0.3), 0px 1px 3px 1px rgba(60, 64, 67, 0.15);\n",
              "      fill: #174EA6;\n",
              "    }\n",
              "\n",
              "    [theme=dark] .colab-df-convert {\n",
              "      background-color: #3B4455;\n",
              "      fill: #D2E3FC;\n",
              "    }\n",
              "\n",
              "    [theme=dark] .colab-df-convert:hover {\n",
              "      background-color: #434B5C;\n",
              "      box-shadow: 0px 1px 3px 1px rgba(0, 0, 0, 0.15);\n",
              "      filter: drop-shadow(0px 1px 2px rgba(0, 0, 0, 0.3));\n",
              "      fill: #FFFFFF;\n",
              "    }\n",
              "  </style>\n",
              "\n",
              "      <script>\n",
              "        const buttonEl =\n",
              "          document.querySelector('#df-4a97af2f-35bb-4709-b74f-4642223dcdbc button.colab-df-convert');\n",
              "        buttonEl.style.display =\n",
              "          google.colab.kernel.accessAllowed ? 'block' : 'none';\n",
              "\n",
              "        async function convertToInteractive(key) {\n",
              "          const element = document.querySelector('#df-4a97af2f-35bb-4709-b74f-4642223dcdbc');\n",
              "          const dataTable =\n",
              "            await google.colab.kernel.invokeFunction('convertToInteractive',\n",
              "                                                     [key], {});\n",
              "          if (!dataTable) return;\n",
              "\n",
              "          const docLinkHtml = 'Like what you see? Visit the ' +\n",
              "            '<a target=\"_blank\" href=https://colab.research.google.com/notebooks/data_table.ipynb>data table notebook</a>'\n",
              "            + ' to learn more about interactive tables.';\n",
              "          element.innerHTML = '';\n",
              "          dataTable['output_type'] = 'display_data';\n",
              "          await google.colab.output.renderOutput(dataTable, element);\n",
              "          const docLink = document.createElement('div');\n",
              "          docLink.innerHTML = docLinkHtml;\n",
              "          element.appendChild(docLink);\n",
              "        }\n",
              "      </script>\n",
              "    </div>\n",
              "  </div>\n",
              "  "
            ]
          },
          "metadata": {},
          "execution_count": 140
        }
      ]
    },
    {
      "cell_type": "markdown",
      "source": [
        "There are 4% missing/null values in Length_Employed, 15% missing/null values in Home_Owner, 15% missing/null values in Annual_Income, 53% missing/null values in Months_since_Deliquency. "
      ],
      "metadata": {
        "id": "ogjaM998OrpC"
      }
    },
    {
      "cell_type": "markdown",
      "source": [
        "## Data Cleansing"
      ],
      "metadata": {
        "id": "fopwBjExQGvq"
      }
    },
    {
      "cell_type": "markdown",
      "source": [
        "### Imputation categorical & numerical variable"
      ],
      "metadata": {
        "id": "Sb1kqbLhQJwj"
      }
    },
    {
      "cell_type": "markdown",
      "source": [
        "There are 2 columns (Length_Employed, Home_Owner) with categorical variable and 2 columns with numerical variable (Annual_Income, Months_Since_Deliquency) that have null values. I decide to fill the null values with feature engineering - imputation categorical & numerical variable.\n",
        "  - Mode (most frequent) for categorical variable.\n",
        "  - Mean for numerical variable."
      ],
      "metadata": {
        "id": "KHOhLt3L1kVf"
      }
    },
    {
      "cell_type": "code",
      "source": [
        "#impute the missing values\n",
        "#categorical variable + binary variable\n",
        "cat_var = ['Length_Employed', 'Home_Owner']\n",
        "mean_imputer = SimpleImputer(missing_values=np.nan, strategy='most_frequent')\n",
        "for i in cat_var:\n",
        "  mean_imputer = mean_imputer.fit(df[[i]])\n",
        "  df[i] = mean_imputer.transform(df[[i]]).ravel()\n",
        "\n",
        "#numerical variable\n",
        "num_var = ['Annual_Income', 'Months_Since_Deliquency']\n",
        "mean_imputer = SimpleImputer(missing_values=np.nan, strategy='mean')\n",
        "for i in num_var:\n",
        "  mean_imputer = mean_imputer.fit(df[[i]])\n",
        "  df[i] = mean_imputer.transform(df[[i]]).ravel()\n",
        "\n",
        "df.isnull().sum()"
      ],
      "metadata": {
        "colab": {
          "base_uri": "https://localhost:8080/"
        },
        "id": "LZrQL0brQGXX",
        "outputId": "5a173260-0ed7-4ff3-9cc1-d7bc3f997216"
      },
      "execution_count": 141,
      "outputs": [
        {
          "output_type": "execute_result",
          "data": {
            "text/plain": [
              "Loan_ID                    0\n",
              "Loan_Amount_Requested      0\n",
              "Length_Employed            0\n",
              "Home_Owner                 0\n",
              "Annual_Income              0\n",
              "Income_Verified            0\n",
              "Purpose_Of_Loan            0\n",
              "Debt_To_Income             0\n",
              "Inquiries_Last_6Mo         0\n",
              "Months_Since_Deliquency    0\n",
              "Number_Open_Accounts       0\n",
              "Total_Accounts             0\n",
              "Gender                     0\n",
              "Interest_Rate              0\n",
              "dtype: int64"
            ]
          },
          "metadata": {},
          "execution_count": 141
        }
      ]
    },
    {
      "cell_type": "code",
      "source": [
        "df.describe().T"
      ],
      "metadata": {
        "colab": {
          "base_uri": "https://localhost:8080/",
          "height": 332
        },
        "id": "xLv9ty9bmlDy",
        "outputId": "bdfc9952-2b04-439d-e8ca-437c19d001c0"
      },
      "execution_count": 142,
      "outputs": [
        {
          "output_type": "execute_result",
          "data": {
            "text/plain": [
              "                            count          mean           std         min  \\\n",
              "Loan_ID                  164309.0  1.008216e+07  47432.067027  10000001.0   \n",
              "Loan_Amount_Requested    164309.0  1.434934e+04   8281.868700       500.0   \n",
              "Annual_Income            164309.0  7.333116e+04  55574.394150      4000.0   \n",
              "Debt_To_Income           164309.0  1.720719e+01      7.845083         0.0   \n",
              "Inquiries_Last_6Mo       164309.0  7.816979e-01      1.034747         0.0   \n",
              "Months_Since_Deliquency  164309.0  3.422936e+01     14.793023         0.0   \n",
              "Number_Open_Accounts     164309.0  1.119382e+01      4.991813         0.0   \n",
              "Total_Accounts           164309.0  2.506767e+01     11.583067         2.0   \n",
              "Interest_Rate            164309.0  2.158951e+00      0.738364         1.0   \n",
              "\n",
              "                                 25%           50%           75%          max  \n",
              "Loan_ID                  10041078.00  1.008216e+07  1.012323e+07  10164309.00  \n",
              "Loan_Amount_Requested        8000.00  1.207500e+04  2.000000e+04     35000.00  \n",
              "Annual_Income               48600.00  7.000000e+04  8.200000e+04   7500000.00  \n",
              "Debt_To_Income                 11.37  1.684000e+01  2.278000e+01        39.99  \n",
              "Inquiries_Last_6Mo              0.00  0.000000e+00  1.000000e+00         8.00  \n",
              "Months_Since_Deliquency        34.00  3.422936e+01  3.422936e+01       180.00  \n",
              "Number_Open_Accounts            8.00  1.000000e+01  1.400000e+01        76.00  \n",
              "Total_Accounts                 17.00  2.300000e+01  3.200000e+01       156.00  \n",
              "Interest_Rate                   2.00  2.000000e+00  3.000000e+00         3.00  "
            ],
            "text/html": [
              "\n",
              "  <div id=\"df-31c003a2-0147-4156-8336-054f25944d12\">\n",
              "    <div class=\"colab-df-container\">\n",
              "      <div>\n",
              "<style scoped>\n",
              "    .dataframe tbody tr th:only-of-type {\n",
              "        vertical-align: middle;\n",
              "    }\n",
              "\n",
              "    .dataframe tbody tr th {\n",
              "        vertical-align: top;\n",
              "    }\n",
              "\n",
              "    .dataframe thead th {\n",
              "        text-align: right;\n",
              "    }\n",
              "</style>\n",
              "<table border=\"1\" class=\"dataframe\">\n",
              "  <thead>\n",
              "    <tr style=\"text-align: right;\">\n",
              "      <th></th>\n",
              "      <th>count</th>\n",
              "      <th>mean</th>\n",
              "      <th>std</th>\n",
              "      <th>min</th>\n",
              "      <th>25%</th>\n",
              "      <th>50%</th>\n",
              "      <th>75%</th>\n",
              "      <th>max</th>\n",
              "    </tr>\n",
              "  </thead>\n",
              "  <tbody>\n",
              "    <tr>\n",
              "      <th>Loan_ID</th>\n",
              "      <td>164309.0</td>\n",
              "      <td>1.008216e+07</td>\n",
              "      <td>47432.067027</td>\n",
              "      <td>10000001.0</td>\n",
              "      <td>10041078.00</td>\n",
              "      <td>1.008216e+07</td>\n",
              "      <td>1.012323e+07</td>\n",
              "      <td>10164309.00</td>\n",
              "    </tr>\n",
              "    <tr>\n",
              "      <th>Loan_Amount_Requested</th>\n",
              "      <td>164309.0</td>\n",
              "      <td>1.434934e+04</td>\n",
              "      <td>8281.868700</td>\n",
              "      <td>500.0</td>\n",
              "      <td>8000.00</td>\n",
              "      <td>1.207500e+04</td>\n",
              "      <td>2.000000e+04</td>\n",
              "      <td>35000.00</td>\n",
              "    </tr>\n",
              "    <tr>\n",
              "      <th>Annual_Income</th>\n",
              "      <td>164309.0</td>\n",
              "      <td>7.333116e+04</td>\n",
              "      <td>55574.394150</td>\n",
              "      <td>4000.0</td>\n",
              "      <td>48600.00</td>\n",
              "      <td>7.000000e+04</td>\n",
              "      <td>8.200000e+04</td>\n",
              "      <td>7500000.00</td>\n",
              "    </tr>\n",
              "    <tr>\n",
              "      <th>Debt_To_Income</th>\n",
              "      <td>164309.0</td>\n",
              "      <td>1.720719e+01</td>\n",
              "      <td>7.845083</td>\n",
              "      <td>0.0</td>\n",
              "      <td>11.37</td>\n",
              "      <td>1.684000e+01</td>\n",
              "      <td>2.278000e+01</td>\n",
              "      <td>39.99</td>\n",
              "    </tr>\n",
              "    <tr>\n",
              "      <th>Inquiries_Last_6Mo</th>\n",
              "      <td>164309.0</td>\n",
              "      <td>7.816979e-01</td>\n",
              "      <td>1.034747</td>\n",
              "      <td>0.0</td>\n",
              "      <td>0.00</td>\n",
              "      <td>0.000000e+00</td>\n",
              "      <td>1.000000e+00</td>\n",
              "      <td>8.00</td>\n",
              "    </tr>\n",
              "    <tr>\n",
              "      <th>Months_Since_Deliquency</th>\n",
              "      <td>164309.0</td>\n",
              "      <td>3.422936e+01</td>\n",
              "      <td>14.793023</td>\n",
              "      <td>0.0</td>\n",
              "      <td>34.00</td>\n",
              "      <td>3.422936e+01</td>\n",
              "      <td>3.422936e+01</td>\n",
              "      <td>180.00</td>\n",
              "    </tr>\n",
              "    <tr>\n",
              "      <th>Number_Open_Accounts</th>\n",
              "      <td>164309.0</td>\n",
              "      <td>1.119382e+01</td>\n",
              "      <td>4.991813</td>\n",
              "      <td>0.0</td>\n",
              "      <td>8.00</td>\n",
              "      <td>1.000000e+01</td>\n",
              "      <td>1.400000e+01</td>\n",
              "      <td>76.00</td>\n",
              "    </tr>\n",
              "    <tr>\n",
              "      <th>Total_Accounts</th>\n",
              "      <td>164309.0</td>\n",
              "      <td>2.506767e+01</td>\n",
              "      <td>11.583067</td>\n",
              "      <td>2.0</td>\n",
              "      <td>17.00</td>\n",
              "      <td>2.300000e+01</td>\n",
              "      <td>3.200000e+01</td>\n",
              "      <td>156.00</td>\n",
              "    </tr>\n",
              "    <tr>\n",
              "      <th>Interest_Rate</th>\n",
              "      <td>164309.0</td>\n",
              "      <td>2.158951e+00</td>\n",
              "      <td>0.738364</td>\n",
              "      <td>1.0</td>\n",
              "      <td>2.00</td>\n",
              "      <td>2.000000e+00</td>\n",
              "      <td>3.000000e+00</td>\n",
              "      <td>3.00</td>\n",
              "    </tr>\n",
              "  </tbody>\n",
              "</table>\n",
              "</div>\n",
              "      <button class=\"colab-df-convert\" onclick=\"convertToInteractive('df-31c003a2-0147-4156-8336-054f25944d12')\"\n",
              "              title=\"Convert this dataframe to an interactive table.\"\n",
              "              style=\"display:none;\">\n",
              "        \n",
              "  <svg xmlns=\"http://www.w3.org/2000/svg\" height=\"24px\"viewBox=\"0 0 24 24\"\n",
              "       width=\"24px\">\n",
              "    <path d=\"M0 0h24v24H0V0z\" fill=\"none\"/>\n",
              "    <path d=\"M18.56 5.44l.94 2.06.94-2.06 2.06-.94-2.06-.94-.94-2.06-.94 2.06-2.06.94zm-11 1L8.5 8.5l.94-2.06 2.06-.94-2.06-.94L8.5 2.5l-.94 2.06-2.06.94zm10 10l.94 2.06.94-2.06 2.06-.94-2.06-.94-.94-2.06-.94 2.06-2.06.94z\"/><path d=\"M17.41 7.96l-1.37-1.37c-.4-.4-.92-.59-1.43-.59-.52 0-1.04.2-1.43.59L10.3 9.45l-7.72 7.72c-.78.78-.78 2.05 0 2.83L4 21.41c.39.39.9.59 1.41.59.51 0 1.02-.2 1.41-.59l7.78-7.78 2.81-2.81c.8-.78.8-2.07 0-2.86zM5.41 20L4 18.59l7.72-7.72 1.47 1.35L5.41 20z\"/>\n",
              "  </svg>\n",
              "      </button>\n",
              "      \n",
              "  <style>\n",
              "    .colab-df-container {\n",
              "      display:flex;\n",
              "      flex-wrap:wrap;\n",
              "      gap: 12px;\n",
              "    }\n",
              "\n",
              "    .colab-df-convert {\n",
              "      background-color: #E8F0FE;\n",
              "      border: none;\n",
              "      border-radius: 50%;\n",
              "      cursor: pointer;\n",
              "      display: none;\n",
              "      fill: #1967D2;\n",
              "      height: 32px;\n",
              "      padding: 0 0 0 0;\n",
              "      width: 32px;\n",
              "    }\n",
              "\n",
              "    .colab-df-convert:hover {\n",
              "      background-color: #E2EBFA;\n",
              "      box-shadow: 0px 1px 2px rgba(60, 64, 67, 0.3), 0px 1px 3px 1px rgba(60, 64, 67, 0.15);\n",
              "      fill: #174EA6;\n",
              "    }\n",
              "\n",
              "    [theme=dark] .colab-df-convert {\n",
              "      background-color: #3B4455;\n",
              "      fill: #D2E3FC;\n",
              "    }\n",
              "\n",
              "    [theme=dark] .colab-df-convert:hover {\n",
              "      background-color: #434B5C;\n",
              "      box-shadow: 0px 1px 3px 1px rgba(0, 0, 0, 0.15);\n",
              "      filter: drop-shadow(0px 1px 2px rgba(0, 0, 0, 0.3));\n",
              "      fill: #FFFFFF;\n",
              "    }\n",
              "  </style>\n",
              "\n",
              "      <script>\n",
              "        const buttonEl =\n",
              "          document.querySelector('#df-31c003a2-0147-4156-8336-054f25944d12 button.colab-df-convert');\n",
              "        buttonEl.style.display =\n",
              "          google.colab.kernel.accessAllowed ? 'block' : 'none';\n",
              "\n",
              "        async function convertToInteractive(key) {\n",
              "          const element = document.querySelector('#df-31c003a2-0147-4156-8336-054f25944d12');\n",
              "          const dataTable =\n",
              "            await google.colab.kernel.invokeFunction('convertToInteractive',\n",
              "                                                     [key], {});\n",
              "          if (!dataTable) return;\n",
              "\n",
              "          const docLinkHtml = 'Like what you see? Visit the ' +\n",
              "            '<a target=\"_blank\" href=https://colab.research.google.com/notebooks/data_table.ipynb>data table notebook</a>'\n",
              "            + ' to learn more about interactive tables.';\n",
              "          element.innerHTML = '';\n",
              "          dataTable['output_type'] = 'display_data';\n",
              "          await google.colab.output.renderOutput(dataTable, element);\n",
              "          const docLink = document.createElement('div');\n",
              "          docLink.innerHTML = docLinkHtml;\n",
              "          element.appendChild(docLink);\n",
              "        }\n",
              "      </script>\n",
              "    </div>\n",
              "  </div>\n",
              "  "
            ]
          },
          "metadata": {},
          "execution_count": 142
        }
      ]
    },
    {
      "cell_type": "markdown",
      "source": [
        "Summary of statistic numerical column."
      ],
      "metadata": {
        "id": "Shj3efr_24sZ"
      }
    },
    {
      "cell_type": "markdown",
      "source": [
        "## Data Visualization"
      ],
      "metadata": {
        "id": "4RZVMeCr9omh"
      }
    },
    {
      "cell_type": "code",
      "source": [
        "num_cols = ['Loan_Amount_Requested','Annual_Income','Debt_To_Income','Inquiries_Last_6Mo','Months_Since_Deliquency','Number_Open_Accounts','Total_Accounts','Interest_Rate']\n",
        "fig, axes = plt.subplots(4,2, figsize=(18,14))\n",
        "axes = [ax for axes_row in axes for ax in axes_row]\n",
        "\n",
        "for i, col in enumerate(num_cols):\n",
        "  plot = sns.kdeplot(data=df, x=col, ax=axes[i], fill=True)\n",
        "plt.tight_layout()"
      ],
      "metadata": {
        "colab": {
          "base_uri": "https://localhost:8080/",
          "height": 1000
        },
        "id": "LULLvi0fmxx4",
        "outputId": "f527dddf-67bd-4e79-874c-c142acaf7974"
      },
      "execution_count": 143,
      "outputs": [
        {
          "output_type": "display_data",
          "data": {
            "text/plain": [
              "<Figure size 1296x1008 with 8 Axes>"
            ],
            "image/png": "[encoded data removed]"
          },
          "metadata": {
            "needs_background": "light"
          }
        }
      ]
    },
    {
      "cell_type": "markdown",
      "source": [
        "- In terms of Loan Amount Requested: the applicant mostly request loan in around 8000 until 20000.\n",
        "- In terms of Annual Income: the applicant mostly earn income in a year between 48000 until 82000.\n",
        "- In terms of Debt to income: the applicant mostly have 10 until 23 debt to income.\n",
        "- In terms of Inquires Last 6 months: the applicant has inquired by creditors for the past 6 months is 0 until 2\n",
        "- In terms of Months since deliquency: the applicant mostly have 28 until 37 months since deliquency.\n",
        "- In terms of Number open accounts: the applicant mostly have 8 - 14 open accounts.\n",
        "- In terms of Total accounts: the applicant mostly have 17 until 32 accounts.\n",
        "- In terms of Interest rate: the applicant mostly has second rate of interest for the loan."
      ],
      "metadata": {
        "id": "ByiB3ukfR_jx"
      }
    },
    {
      "cell_type": "code",
      "source": [
        "interest_rate_data = df.groupby(['Interest_Rate']).size()\n",
        "\n",
        "my_labels = '1','2','3'\n",
        "plt.pie(interest_rate_data,labels=my_labels,autopct='%1.1f%%')\n",
        "plt.title('Interest Rate')\n",
        "plt.axis('equal')\n",
        "plt.show()"
      ],
      "metadata": {
        "colab": {
          "base_uri": "https://localhost:8080/",
          "height": 264
        },
        "id": "26N_eIqInH_y",
        "outputId": "aaf52d30-5db4-4c7e-c438-318db1d3c244"
      },
      "execution_count": 144,
      "outputs": [
        {
          "output_type": "display_data",
          "data": {
            "text/plain": [
              "<Figure size 432x288 with 1 Axes>"
            ],
            "image/png": "[encoded data removed]"
          },
          "metadata": {}
        }
      ]
    },
    {
      "cell_type": "markdown",
      "source": [
        "From this information above, we know the applicant that has second rate of interest fill the highest total of applicant that want to loan is around 43%. And the following of interest rate, the applicant has third rate of interest to loan is around 36.5%. The applicant has first rate of interest to loan is around 20.6%. The applicant prefer the second rate because the loan amount is as the applicant needs and the interest paid is not too high."
      ],
      "metadata": {
        "id": "HyzigpRp6-et"
      }
    },
    {
      "cell_type": "code",
      "source": [
        "# check histogram for continuous columns\n",
        "df.hist(figsize=(15,15))\n",
        "plt.show()"
      ],
      "metadata": {
        "colab": {
          "base_uri": "https://localhost:8080/",
          "height": 879
        },
        "id": "6k9ltjCqnMUd",
        "outputId": "51892c59-ca87-4134-c353-ebbd0d49b57b"
      },
      "execution_count": 145,
      "outputs": [
        {
          "output_type": "display_data",
          "data": {
            "text/plain": [
              "<Figure size 1080x1080 with 9 Axes>"
            ],
            "image/png": "[encoded data removed]"
          },
          "metadata": {
            "needs_background": "light"
          }
        }
      ]
    },
    {
      "cell_type": "markdown",
      "source": [
        "Data distribution of numerical variable."
      ],
      "metadata": {
        "id": "a4xLJkWi8NTe"
      }
    },
    {
      "cell_type": "code",
      "source": [
        "cats = [col for col in df.columns if (df[col].dtype == 'object') & (col not in ['Loan_ID'])]\n",
        "nums = [col for col in df.columns if (df[col].dtype != 'object') & (col not in ['Loan_ID'])]"
      ],
      "metadata": {
        "id": "2c8LiTGVnSYx"
      },
      "execution_count": 146,
      "outputs": []
    },
    {
      "cell_type": "code",
      "source": [
        "for col in cats:\n",
        "    print(col)\n",
        "    ax = sns.countplot(data=df, x=col, hue='Interest_Rate')\n",
        "    ax.set_xticklabels(ax.get_xticklabels(), rotation=90, ha=\"right\")\n",
        "    plt.legend(bbox_to_anchor=(1, 1), loc=2, borderaxespad=0.)\n",
        "    plt.title(col)\n",
        "    plt.tight_layout()\n",
        "    plt.show()"
      ],
      "metadata": {
        "colab": {
          "base_uri": "https://localhost:8080/",
          "height": 1000
        },
        "id": "FWUvGDvRnZON",
        "outputId": "a2b5e0dc-0bed-4530-9292-e5d360869ac8"
      },
      "execution_count": 147,
      "outputs": [
        {
          "output_type": "stream",
          "name": "stdout",
          "text": [
            "Length_Employed\n"
          ]
        },
        {
          "output_type": "display_data",
          "data": {
            "text/plain": [
              "<Figure size 432x288 with 1 Axes>"
            ],
            "image/png": "[encoded data removed]"
          },
          "metadata": {
            "needs_background": "light"
          }
        },
        {
          "output_type": "stream",
          "name": "stdout",
          "text": [
            "Home_Owner\n"
          ]
        },
        {
          "output_type": "display_data",
          "data": {
            "text/plain": [
              "<Figure size 432x288 with 1 Axes>"
            ],
            "image/png": "[encoded data removed]"
          },
          "metadata": {
            "needs_background": "light"
          }
        },
        {
          "output_type": "stream",
          "name": "stdout",
          "text": [
            "Income_Verified\n"
          ]
        },
        {
          "output_type": "display_data",
          "data": {
            "text/plain": [
              "<Figure size 432x288 with 1 Axes>"
            ],
            "image/png": "[encoded data removed]"
          },
          "metadata": {
            "needs_background": "light"
          }
        },
        {
          "output_type": "stream",
          "name": "stdout",
          "text": [
            "Purpose_Of_Loan\n"
          ]
        },
        {
          "output_type": "display_data",
          "data": {
            "text/plain": [
              "<Figure size 432x288 with 1 Axes>"
            ],
            "image/png": "[encoded data removed]"
          },
          "metadata": {
            "needs_background": "light"
          }
        },
        {
          "output_type": "stream",
          "name": "stdout",
          "text": [
            "Gender\n"
          ]
        },
        {
          "output_type": "display_data",
          "data": {
            "text/plain": [
              "<Figure size 432x288 with 1 Axes>"
            ],
            "image/png": "[encoded data removed]"
          },
          "metadata": {
            "needs_background": "light"
          }
        }
      ]
    },
    {
      "cell_type": "markdown",
      "source": [
        "- In terms of Length Employed with loan interest rate: the applicant that has more than 10 years work as employee have the highest total of applicant with more than 10000 applicants, because they have settled their financial so they can manage their financial plan. The applicant has less than 10 years work as employee has average total of applicant with approximately 0 - 5000 applicants. either 10 years employee or less than 10 years employee, the average applicant prefer the second rate of interest.\n",
        "\n",
        "- In terms of Home owner with loan interest rate: the applicant that mortgage their residence has the highest total of people that interest want to loan. It's because they pay their residence with long-term installments and the second rate of interest is still the highest\n",
        "\n",
        "- In terms of Income verified with loan interest rate: The total of applicant with the status income not verified, verified - income and verified - income source still has not too many differences of total applicant. because the system or PIC that has responsible in verification still investigate the status income another applicant.\n",
        "\n",
        "- In terms of Purpose of loan with loan interest rate: most of applicant has purpose of loan in debt consolidation. Because most of applicant thinks they want to streamlines their financial which combining multiple outstanding debt into a single loan and interest rates they have to worry about.\n",
        "\n",
        "- In terms of Gender with loan interest rate: mostly the applicant is a male gender. Because the average in a household that has a permanent job and who is in charge of pay the loan payment is a male."
      ],
      "metadata": {
        "id": "lj6tDyT6-drR"
      }
    },
    {
      "cell_type": "code",
      "source": [
        "plt.figure(figsize=(12,7))\n",
        "sns.heatmap(df.corr(), annot=True, cmap='YlGnBu')\n",
        "plt.show()"
      ],
      "metadata": {
        "colab": {
          "base_uri": "https://localhost:8080/",
          "height": 552
        },
        "id": "HrMFVi9QneQq",
        "outputId": "f3dd3173-95a7-42b2-d494-6ef5f110cfd1"
      },
      "execution_count": 148,
      "outputs": [
        {
          "output_type": "display_data",
          "data": {
            "text/plain": [
              "<Figure size 864x504 with 2 Axes>"
            ],
            "image/png": "[encoded data removed]"
          },
          "metadata": {
            "needs_background": "light"
          }
        }
      ]
    },
    {
      "cell_type": "markdown",
      "source": [
        "there is high correlation around 68% between the total account and the number of open accounts, because total account column explain the applicant has total existing credit lines and number open account column explain how many the applicant still can open credit lines from total account existing from the applicant."
      ],
      "metadata": {
        "id": "H1_kxrtjni4t"
      }
    },
    {
      "cell_type": "markdown",
      "source": [
        "## Data Preprocessing"
      ],
      "metadata": {
        "id": "HpC9-0hri-Im"
      }
    },
    {
      "cell_type": "markdown",
      "source": [
        "### Train - Test Split"
      ],
      "metadata": {
        "id": "18v0pKFRXDyF"
      }
    },
    {
      "cell_type": "code",
      "source": [
        "df_X = df.drop(columns=['Loan_ID','Interest_Rate'])\n",
        "df_y = df['Interest_Rate']\n",
        "\n",
        "X_train, X_test, y_train, y_test = train_test_split(df_X, df_y, \n",
        "                                                    test_size=0.3, \n",
        "                                                    random_state=1, \n",
        "                                                    stratify=df_y)"
      ],
      "metadata": {
        "id": "3AsK-IPnXO_U"
      },
      "execution_count": 149,
      "outputs": []
    },
    {
      "cell_type": "markdown",
      "source": [
        "train-test split first to prevent data leakage when doing the data preprocessing steps."
      ],
      "metadata": {
        "id": "jXhkYSoGXqhH"
      }
    },
    {
      "cell_type": "markdown",
      "source": [
        "### Label Encoding"
      ],
      "metadata": {
        "id": "LzI3HTp4WwuU"
      }
    },
    {
      "cell_type": "code",
      "source": [
        "le = LabelEncoder()\n",
        "\n",
        "le.fit(y_train)\n",
        "\n",
        "y_train_encode = le.transform(y_train)\n",
        "y_test_encode = le.transform(y_test)"
      ],
      "metadata": {
        "id": "8_R3WunZVci1"
      },
      "execution_count": 150,
      "outputs": []
    },
    {
      "cell_type": "code",
      "source": [
        "le.classes_"
      ],
      "metadata": {
        "colab": {
          "base_uri": "https://localhost:8080/"
        },
        "id": "ixUGZzAMYu8K",
        "outputId": "c9abaa93-31ac-4ae7-9d9c-043d109a9cde"
      },
      "execution_count": 151,
      "outputs": [
        {
          "output_type": "execute_result",
          "data": {
            "text/plain": [
              "array([1, 2, 3])"
            ]
          },
          "metadata": {},
          "execution_count": 151
        }
      ]
    },
    {
      "cell_type": "markdown",
      "source": [
        "### One Hot Encoding"
      ],
      "metadata": {
        "id": "8G8j-yuIZiLF"
      }
    },
    {
      "cell_type": "code",
      "source": [
        "column_numerical = df_X.select_dtypes(include=np.number).columns.values.tolist()\n",
        "column_categorical = df_X.select_dtypes(exclude=np.number).columns.values.tolist()"
      ],
      "metadata": {
        "id": "Jz2jRs5DbCHK"
      },
      "execution_count": 152,
      "outputs": []
    },
    {
      "cell_type": "code",
      "source": [
        "# ‘if_binary’ : drop the first category in each feature with two categories. Features with 1 or more than 2 categories are left intact.\n",
        "ohe = OneHotEncoder(sparse=False, drop='if_binary')\n",
        "\n",
        "ohe.fit(X_train[column_categorical])\n",
        "\n",
        "X_train_ohe = ohe.transform(X_train[column_categorical])\n",
        "X_test_ohe = ohe.transform(X_test[column_categorical])"
      ],
      "metadata": {
        "id": "Fm402HTKZg8a"
      },
      "execution_count": 153,
      "outputs": []
    },
    {
      "cell_type": "markdown",
      "source": [
        "### Encoded Dataframe"
      ],
      "metadata": {
        "id": "F8X6N1fjbPlt"
      }
    },
    {
      "cell_type": "markdown",
      "source": [
        "Combine the encoded features and the numerical features. Make sure that the index is the same."
      ],
      "metadata": {
        "id": "8lcua4-xbcVa"
      }
    },
    {
      "cell_type": "code",
      "source": [
        "column_ohe = ohe.get_feature_names_out()\n",
        "column_ohe"
      ],
      "metadata": {
        "colab": {
          "base_uri": "https://localhost:8080/"
        },
        "id": "K0LBMA5BbSKO",
        "outputId": "9b0ce965-5994-4aa7-d7c1-ac68d824c072"
      },
      "execution_count": 154,
      "outputs": [
        {
          "output_type": "execute_result",
          "data": {
            "text/plain": [
              "array(['Length_Employed_1 year', 'Length_Employed_10+ years',\n",
              "       'Length_Employed_2 years', 'Length_Employed_3 years',\n",
              "       'Length_Employed_4 years', 'Length_Employed_5 years',\n",
              "       'Length_Employed_6 years', 'Length_Employed_7 years',\n",
              "       'Length_Employed_8 years', 'Length_Employed_9 years',\n",
              "       'Length_Employed_< 1 year', 'Home_Owner_Mortgage',\n",
              "       'Home_Owner_None', 'Home_Owner_Other', 'Home_Owner_Own',\n",
              "       'Home_Owner_Rent', 'Income_Verified_VERIFIED - income',\n",
              "       'Income_Verified_VERIFIED - income source',\n",
              "       'Income_Verified_not verified', 'Purpose_Of_Loan_car',\n",
              "       'Purpose_Of_Loan_credit_card',\n",
              "       'Purpose_Of_Loan_debt_consolidation',\n",
              "       'Purpose_Of_Loan_educational', 'Purpose_Of_Loan_home_improvement',\n",
              "       'Purpose_Of_Loan_house', 'Purpose_Of_Loan_major_purchase',\n",
              "       'Purpose_Of_Loan_medical', 'Purpose_Of_Loan_moving',\n",
              "       'Purpose_Of_Loan_other', 'Purpose_Of_Loan_renewable_energy',\n",
              "       'Purpose_Of_Loan_small_business', 'Purpose_Of_Loan_vacation',\n",
              "       'Purpose_Of_Loan_wedding', 'Gender_Male'], dtype=object)"
            ]
          },
          "metadata": {},
          "execution_count": 154
        }
      ]
    },
    {
      "cell_type": "markdown",
      "source": [
        "Rename the column name to snake_case format."
      ],
      "metadata": {
        "id": "AsELXmd5bvfZ"
      }
    },
    {
      "cell_type": "code",
      "source": [
        "for i, col in enumerate(column_ohe):\n",
        "  column_ohe[i] = inflection.underscore(column_ohe[i])\n",
        "  column_ohe[i] = column_ohe[i].replace(' ', '_')\n",
        "  column_ohe[i] = column_ohe[i].replace('<', 'less_than')\n",
        "  column_ohe[i] = column_ohe[i].replace('>', 'greater_than')\n",
        "\n",
        "column_ohe"
      ],
      "metadata": {
        "colab": {
          "base_uri": "https://localhost:8080/"
        },
        "id": "Ms8YvBCobZVM",
        "outputId": "4b01a0ae-5fd9-41db-e22f-64c21cfc4da8"
      },
      "execution_count": 155,
      "outputs": [
        {
          "output_type": "execute_result",
          "data": {
            "text/plain": [
              "array(['length_employed_1_year', 'length_employed_10+_years',\n",
              "       'length_employed_2_years', 'length_employed_3_years',\n",
              "       'length_employed_4_years', 'length_employed_5_years',\n",
              "       'length_employed_6_years', 'length_employed_7_years',\n",
              "       'length_employed_8_years', 'length_employed_9_years',\n",
              "       'length_employed_less_than_1_year', 'home_owner_mortgage',\n",
              "       'home_owner_none', 'home_owner_other', 'home_owner_own',\n",
              "       'home_owner_rent', 'income_verified_verified___income',\n",
              "       'income_verified_verified___income_source',\n",
              "       'income_verified_not_verified', 'purpose_of_loan_car',\n",
              "       'purpose_of_loan_credit_card',\n",
              "       'purpose_of_loan_debt_consolidation',\n",
              "       'purpose_of_loan_educational', 'purpose_of_loan_home_improvement',\n",
              "       'purpose_of_loan_house', 'purpose_of_loan_major_purchase',\n",
              "       'purpose_of_loan_medical', 'purpose_of_loan_moving',\n",
              "       'purpose_of_loan_other', 'purpose_of_loan_renewable_energy',\n",
              "       'purpose_of_loan_small_business', 'purpose_of_loan_vacation',\n",
              "       'purpose_of_loan_wedding', 'gender_male'], dtype=object)"
            ]
          },
          "metadata": {},
          "execution_count": 155
        }
      ]
    },
    {
      "cell_type": "markdown",
      "source": [
        "### Train Set"
      ],
      "metadata": {
        "id": "cvX0nm9fccyL"
      }
    },
    {
      "cell_type": "code",
      "source": [
        "# create dataframe from one-hot encoded features\n",
        "X_train_ohe_df = pd.DataFrame(X_train_ohe, columns=column_ohe, index=X_train.index)\n",
        "\n",
        "# combine the numerical and encoded features\n",
        "X_train_encode = pd.concat([X_train.drop(columns=column_categorical), X_train_ohe_df], axis=1)\n",
        "X_train_encode.head()"
      ],
      "metadata": {
        "colab": {
          "base_uri": "https://localhost:8080/",
          "height": 300
        },
        "id": "BB0W-31pcbWL",
        "outputId": "897d9450-4252-4e47-a462-97ba178c5557"
      },
      "execution_count": 156,
      "outputs": [
        {
          "output_type": "execute_result",
          "data": {
            "text/plain": [
              "        Loan_Amount_Requested  Annual_Income  Debt_To_Income  \\\n",
              "89886                   10050   73331.159434           28.47   \n",
              "90538                   15000   42500.000000           22.25   \n",
              "32854                    5875   30000.000000           27.56   \n",
              "116057                   6000  380000.000000            8.94   \n",
              "61991                   15000   49000.000000           16.39   \n",
              "\n",
              "        Inquiries_Last_6Mo  Months_Since_Deliquency  Number_Open_Accounts  \\\n",
              "89886                    0                34.229356                     7   \n",
              "90538                    0                15.000000                    12   \n",
              "32854                    1                34.229356                    11   \n",
              "116057                   1                47.000000                    13   \n",
              "61991                    1                34.229356                     8   \n",
              "\n",
              "        Total_Accounts  length_employed_1_year  length_employed_10+_years  \\\n",
              "89886               15                     0.0                        0.0   \n",
              "90538               25                     0.0                        0.0   \n",
              "32854               13                     0.0                        0.0   \n",
              "116057              34                     0.0                        0.0   \n",
              "61991               14                     0.0                        0.0   \n",
              "\n",
              "        length_employed_2_years  ...  purpose_of_loan_house  \\\n",
              "89886                       1.0  ...                    0.0   \n",
              "90538                       0.0  ...                    0.0   \n",
              "32854                       0.0  ...                    0.0   \n",
              "116057                      0.0  ...                    0.0   \n",
              "61991                       0.0  ...                    0.0   \n",
              "\n",
              "        purpose_of_loan_major_purchase  purpose_of_loan_medical  \\\n",
              "89886                              0.0                      0.0   \n",
              "90538                              0.0                      0.0   \n",
              "32854                              0.0                      0.0   \n",
              "116057                             1.0                      0.0   \n",
              "61991                              0.0                      0.0   \n",
              "\n",
              "        purpose_of_loan_moving  purpose_of_loan_other  \\\n",
              "89886                      0.0                    0.0   \n",
              "90538                      0.0                    0.0   \n",
              "32854                      0.0                    0.0   \n",
              "116057                     0.0                    0.0   \n",
              "61991                      0.0                    0.0   \n",
              "\n",
              "        purpose_of_loan_renewable_energy  purpose_of_loan_small_business  \\\n",
              "89886                                0.0                             0.0   \n",
              "90538                                0.0                             0.0   \n",
              "32854                                0.0                             0.0   \n",
              "116057                               0.0                             0.0   \n",
              "61991                                0.0                             0.0   \n",
              "\n",
              "        purpose_of_loan_vacation  purpose_of_loan_wedding  gender_male  \n",
              "89886                        0.0                      0.0          1.0  \n",
              "90538                        0.0                      1.0          0.0  \n",
              "32854                        0.0                      0.0          1.0  \n",
              "116057                       0.0                      0.0          0.0  \n",
              "61991                        0.0                      0.0          1.0  \n",
              "\n",
              "[5 rows x 41 columns]"
            ],
            "text/html": [
              "\n",
              "  <div id=\"df-1c3bc4c7-43fa-4433-a5e6-24a0f357e711\">\n",
              "    <div class=\"colab-df-container\">\n",
              "      <div>\n",
              "<style scoped>\n",
              "    .dataframe tbody tr th:only-of-type {\n",
              "        vertical-align: middle;\n",
              "    }\n",
              "\n",
              "    .dataframe tbody tr th {\n",
              "        vertical-align: top;\n",
              "    }\n",
              "\n",
              "    .dataframe thead th {\n",
              "        text-align: right;\n",
              "    }\n",
              "</style>\n",
              "<table border=\"1\" class=\"dataframe\">\n",
              "  <thead>\n",
              "    <tr style=\"text-align: right;\">\n",
              "      <th></th>\n",
              "      <th>Loan_Amount_Requested</th>\n",
              "      <th>Annual_Income</th>\n",
              "      <th>Debt_To_Income</th>\n",
              "      <th>Inquiries_Last_6Mo</th>\n",
              "      <th>Months_Since_Deliquency</th>\n",
              "      <th>Number_Open_Accounts</th>\n",
              "      <th>Total_Accounts</th>\n",
              "      <th>length_employed_1_year</th>\n",
              "      <th>length_employed_10+_years</th>\n",
              "      <th>length_employed_2_years</th>\n",
              "      <th>...</th>\n",
              "      <th>purpose_of_loan_house</th>\n",
              "      <th>purpose_of_loan_major_purchase</th>\n",
              "      <th>purpose_of_loan_medical</th>\n",
              "      <th>purpose_of_loan_moving</th>\n",
              "      <th>purpose_of_loan_other</th>\n",
              "      <th>purpose_of_loan_renewable_energy</th>\n",
              "      <th>purpose_of_loan_small_business</th>\n",
              "      <th>purpose_of_loan_vacation</th>\n",
              "      <th>purpose_of_loan_wedding</th>\n",
              "      <th>gender_male</th>\n",
              "    </tr>\n",
              "  </thead>\n",
              "  <tbody>\n",
              "    <tr>\n",
              "      <th>89886</th>\n",
              "      <td>10050</td>\n",
              "      <td>73331.159434</td>\n",
              "      <td>28.47</td>\n",
              "      <td>0</td>\n",
              "      <td>34.229356</td>\n",
              "      <td>7</td>\n",
              "      <td>15</td>\n",
              "      <td>0.0</td>\n",
              "      <td>0.0</td>\n",
              "      <td>1.0</td>\n",
              "      <td>...</td>\n",
              "      <td>0.0</td>\n",
              "      <td>0.0</td>\n",
              "      <td>0.0</td>\n",
              "      <td>0.0</td>\n",
              "      <td>0.0</td>\n",
              "      <td>0.0</td>\n",
              "      <td>0.0</td>\n",
              "      <td>0.0</td>\n",
              "      <td>0.0</td>\n",
              "      <td>1.0</td>\n",
              "    </tr>\n",
              "    <tr>\n",
              "      <th>90538</th>\n",
              "      <td>15000</td>\n",
              "      <td>42500.000000</td>\n",
              "      <td>22.25</td>\n",
              "      <td>0</td>\n",
              "      <td>15.000000</td>\n",
              "      <td>12</td>\n",
              "      <td>25</td>\n",
              "      <td>0.0</td>\n",
              "      <td>0.0</td>\n",
              "      <td>0.0</td>\n",
              "      <td>...</td>\n",
              "      <td>0.0</td>\n",
              "      <td>0.0</td>\n",
              "      <td>0.0</td>\n",
              "      <td>0.0</td>\n",
              "      <td>0.0</td>\n",
              "      <td>0.0</td>\n",
              "      <td>0.0</td>\n",
              "      <td>0.0</td>\n",
              "      <td>1.0</td>\n",
              "      <td>0.0</td>\n",
              "    </tr>\n",
              "    <tr>\n",
              "      <th>32854</th>\n",
              "      <td>5875</td>\n",
              "      <td>30000.000000</td>\n",
              "      <td>27.56</td>\n",
              "      <td>1</td>\n",
              "      <td>34.229356</td>\n",
              "      <td>11</td>\n",
              "      <td>13</td>\n",
              "      <td>0.0</td>\n",
              "      <td>0.0</td>\n",
              "      <td>0.0</td>\n",
              "      <td>...</td>\n",
              "      <td>0.0</td>\n",
              "      <td>0.0</td>\n",
              "      <td>0.0</td>\n",
              "      <td>0.0</td>\n",
              "      <td>0.0</td>\n",
              "      <td>0.0</td>\n",
              "      <td>0.0</td>\n",
              "      <td>0.0</td>\n",
              "      <td>0.0</td>\n",
              "      <td>1.0</td>\n",
              "    </tr>\n",
              "    <tr>\n",
              "      <th>116057</th>\n",
              "      <td>6000</td>\n",
              "      <td>380000.000000</td>\n",
              "      <td>8.94</td>\n",
              "      <td>1</td>\n",
              "      <td>47.000000</td>\n",
              "      <td>13</td>\n",
              "      <td>34</td>\n",
              "      <td>0.0</td>\n",
              "      <td>0.0</td>\n",
              "      <td>0.0</td>\n",
              "      <td>...</td>\n",
              "      <td>0.0</td>\n",
              "      <td>1.0</td>\n",
              "      <td>0.0</td>\n",
              "      <td>0.0</td>\n",
              "      <td>0.0</td>\n",
              "      <td>0.0</td>\n",
              "      <td>0.0</td>\n",
              "      <td>0.0</td>\n",
              "      <td>0.0</td>\n",
              "      <td>0.0</td>\n",
              "    </tr>\n",
              "    <tr>\n",
              "      <th>61991</th>\n",
              "      <td>15000</td>\n",
              "      <td>49000.000000</td>\n",
              "      <td>16.39</td>\n",
              "      <td>1</td>\n",
              "      <td>34.229356</td>\n",
              "      <td>8</td>\n",
              "      <td>14</td>\n",
              "      <td>0.0</td>\n",
              "      <td>0.0</td>\n",
              "      <td>0.0</td>\n",
              "      <td>...</td>\n",
              "      <td>0.0</td>\n",
              "      <td>0.0</td>\n",
              "      <td>0.0</td>\n",
              "      <td>0.0</td>\n",
              "      <td>0.0</td>\n",
              "      <td>0.0</td>\n",
              "      <td>0.0</td>\n",
              "      <td>0.0</td>\n",
              "      <td>0.0</td>\n",
              "      <td>1.0</td>\n",
              "    </tr>\n",
              "  </tbody>\n",
              "</table>\n",
              "<p>5 rows × 41 columns</p>\n",
              "</div>\n",
              "      <button class=\"colab-df-convert\" onclick=\"convertToInteractive('df-1c3bc4c7-43fa-4433-a5e6-24a0f357e711')\"\n",
              "              title=\"Convert this dataframe to an interactive table.\"\n",
              "              style=\"display:none;\">\n",
              "        \n",
              "  <svg xmlns=\"http://www.w3.org/2000/svg\" height=\"24px\"viewBox=\"0 0 24 24\"\n",
              "       width=\"24px\">\n",
              "    <path d=\"M0 0h24v24H0V0z\" fill=\"none\"/>\n",
              "    <path d=\"M18.56 5.44l.94 2.06.94-2.06 2.06-.94-2.06-.94-.94-2.06-.94 2.06-2.06.94zm-11 1L8.5 8.5l.94-2.06 2.06-.94-2.06-.94L8.5 2.5l-.94 2.06-2.06.94zm10 10l.94 2.06.94-2.06 2.06-.94-2.06-.94-.94-2.06-.94 2.06-2.06.94z\"/><path d=\"M17.41 7.96l-1.37-1.37c-.4-.4-.92-.59-1.43-.59-.52 0-1.04.2-1.43.59L10.3 9.45l-7.72 7.72c-.78.78-.78 2.05 0 2.83L4 21.41c.39.39.9.59 1.41.59.51 0 1.02-.2 1.41-.59l7.78-7.78 2.81-2.81c.8-.78.8-2.07 0-2.86zM5.41 20L4 18.59l7.72-7.72 1.47 1.35L5.41 20z\"/>\n",
              "  </svg>\n",
              "      </button>\n",
              "      \n",
              "  <style>\n",
              "    .colab-df-container {\n",
              "      display:flex;\n",
              "      flex-wrap:wrap;\n",
              "      gap: 12px;\n",
              "    }\n",
              "\n",
              "    .colab-df-convert {\n",
              "      background-color: #E8F0FE;\n",
              "      border: none;\n",
              "      border-radius: 50%;\n",
              "      cursor: pointer;\n",
              "      display: none;\n",
              "      fill: #1967D2;\n",
              "      height: 32px;\n",
              "      padding: 0 0 0 0;\n",
              "      width: 32px;\n",
              "    }\n",
              "\n",
              "    .colab-df-convert:hover {\n",
              "      background-color: #E2EBFA;\n",
              "      box-shadow: 0px 1px 2px rgba(60, 64, 67, 0.3), 0px 1px 3px 1px rgba(60, 64, 67, 0.15);\n",
              "      fill: #174EA6;\n",
              "    }\n",
              "\n",
              "    [theme=dark] .colab-df-convert {\n",
              "      background-color: #3B4455;\n",
              "      fill: #D2E3FC;\n",
              "    }\n",
              "\n",
              "    [theme=dark] .colab-df-convert:hover {\n",
              "      background-color: #434B5C;\n",
              "      box-shadow: 0px 1px 3px 1px rgba(0, 0, 0, 0.15);\n",
              "      filter: drop-shadow(0px 1px 2px rgba(0, 0, 0, 0.3));\n",
              "      fill: #FFFFFF;\n",
              "    }\n",
              "  </style>\n",
              "\n",
              "      <script>\n",
              "        const buttonEl =\n",
              "          document.querySelector('#df-1c3bc4c7-43fa-4433-a5e6-24a0f357e711 button.colab-df-convert');\n",
              "        buttonEl.style.display =\n",
              "          google.colab.kernel.accessAllowed ? 'block' : 'none';\n",
              "\n",
              "        async function convertToInteractive(key) {\n",
              "          const element = document.querySelector('#df-1c3bc4c7-43fa-4433-a5e6-24a0f357e711');\n",
              "          const dataTable =\n",
              "            await google.colab.kernel.invokeFunction('convertToInteractive',\n",
              "                                                     [key], {});\n",
              "          if (!dataTable) return;\n",
              "\n",
              "          const docLinkHtml = 'Like what you see? Visit the ' +\n",
              "            '<a target=\"_blank\" href=https://colab.research.google.com/notebooks/data_table.ipynb>data table notebook</a>'\n",
              "            + ' to learn more about interactive tables.';\n",
              "          element.innerHTML = '';\n",
              "          dataTable['output_type'] = 'display_data';\n",
              "          await google.colab.output.renderOutput(dataTable, element);\n",
              "          const docLink = document.createElement('div');\n",
              "          docLink.innerHTML = docLinkHtml;\n",
              "          element.appendChild(docLink);\n",
              "        }\n",
              "      </script>\n",
              "    </div>\n",
              "  </div>\n",
              "  "
            ]
          },
          "metadata": {},
          "execution_count": 156
        }
      ]
    },
    {
      "cell_type": "markdown",
      "source": [
        "### Test Set"
      ],
      "metadata": {
        "id": "xzeOpCaYcz3x"
      }
    },
    {
      "cell_type": "code",
      "source": [
        "# create dataframe from one-hot encoded features\n",
        "X_test_ohe_df = pd.DataFrame(X_test_ohe, columns=column_ohe, index=X_test.index)\n",
        "\n",
        "# combine the numerical and encoded features\n",
        "X_test_encode = pd.concat([X_test.drop(columns=column_categorical), X_test_ohe_df], axis=1)\n",
        "X_test_encode.head()"
      ],
      "metadata": {
        "colab": {
          "base_uri": "https://localhost:8080/",
          "height": 300
        },
        "id": "Vy0jy-imc1Y1",
        "outputId": "64f80745-7879-44e5-d0d9-d446989befb5"
      },
      "execution_count": 157,
      "outputs": [
        {
          "output_type": "execute_result",
          "data": {
            "text/plain": [
              "        Loan_Amount_Requested  Annual_Income  Debt_To_Income  \\\n",
              "12829                    5000        60000.0           11.81   \n",
              "66004                    5000        64000.0           24.49   \n",
              "52565                   19400       135000.0           15.96   \n",
              "153795                  17500        60500.0           29.63   \n",
              "11403                   10000        42000.0            7.46   \n",
              "\n",
              "        Inquiries_Last_6Mo  Months_Since_Deliquency  Number_Open_Accounts  \\\n",
              "12829                    1                 0.000000                    11   \n",
              "66004                    0                34.229356                    11   \n",
              "52565                    0                 5.000000                    11   \n",
              "153795                   1                34.229356                    22   \n",
              "11403                    0                34.229356                     6   \n",
              "\n",
              "        Total_Accounts  length_employed_1_year  length_employed_10+_years  \\\n",
              "12829               34                     0.0                        0.0   \n",
              "66004               34                     0.0                        1.0   \n",
              "52565               26                     0.0                        0.0   \n",
              "153795              40                     0.0                        0.0   \n",
              "11403               17                     0.0                        1.0   \n",
              "\n",
              "        length_employed_2_years  ...  purpose_of_loan_house  \\\n",
              "12829                       0.0  ...                    0.0   \n",
              "66004                       0.0  ...                    0.0   \n",
              "52565                       0.0  ...                    0.0   \n",
              "153795                      0.0  ...                    0.0   \n",
              "11403                       0.0  ...                    0.0   \n",
              "\n",
              "        purpose_of_loan_major_purchase  purpose_of_loan_medical  \\\n",
              "12829                              0.0                      0.0   \n",
              "66004                              0.0                      0.0   \n",
              "52565                              0.0                      0.0   \n",
              "153795                             0.0                      0.0   \n",
              "11403                              0.0                      0.0   \n",
              "\n",
              "        purpose_of_loan_moving  purpose_of_loan_other  \\\n",
              "12829                      0.0                    0.0   \n",
              "66004                      1.0                    0.0   \n",
              "52565                      0.0                    0.0   \n",
              "153795                     0.0                    0.0   \n",
              "11403                      0.0                    0.0   \n",
              "\n",
              "        purpose_of_loan_renewable_energy  purpose_of_loan_small_business  \\\n",
              "12829                                0.0                             0.0   \n",
              "66004                                0.0                             0.0   \n",
              "52565                                0.0                             0.0   \n",
              "153795                               0.0                             0.0   \n",
              "11403                                0.0                             0.0   \n",
              "\n",
              "        purpose_of_loan_vacation  purpose_of_loan_wedding  gender_male  \n",
              "12829                        0.0                      0.0          1.0  \n",
              "66004                        0.0                      0.0          0.0  \n",
              "52565                        0.0                      0.0          1.0  \n",
              "153795                       0.0                      0.0          1.0  \n",
              "11403                        0.0                      0.0          1.0  \n",
              "\n",
              "[5 rows x 41 columns]"
            ],
            "text/html": [
              "\n",
              "  <div id=\"df-1fd4d393-00e4-4517-baec-03aad94e6724\">\n",
              "    <div class=\"colab-df-container\">\n",
              "      <div>\n",
              "<style scoped>\n",
              "    .dataframe tbody tr th:only-of-type {\n",
              "        vertical-align: middle;\n",
              "    }\n",
              "\n",
              "    .dataframe tbody tr th {\n",
              "        vertical-align: top;\n",
              "    }\n",
              "\n",
              "    .dataframe thead th {\n",
              "        text-align: right;\n",
              "    }\n",
              "</style>\n",
              "<table border=\"1\" class=\"dataframe\">\n",
              "  <thead>\n",
              "    <tr style=\"text-align: right;\">\n",
              "      <th></th>\n",
              "      <th>Loan_Amount_Requested</th>\n",
              "      <th>Annual_Income</th>\n",
              "      <th>Debt_To_Income</th>\n",
              "      <th>Inquiries_Last_6Mo</th>\n",
              "      <th>Months_Since_Deliquency</th>\n",
              "      <th>Number_Open_Accounts</th>\n",
              "      <th>Total_Accounts</th>\n",
              "      <th>length_employed_1_year</th>\n",
              "      <th>length_employed_10+_years</th>\n",
              "      <th>length_employed_2_years</th>\n",
              "      <th>...</th>\n",
              "      <th>purpose_of_loan_house</th>\n",
              "      <th>purpose_of_loan_major_purchase</th>\n",
              "      <th>purpose_of_loan_medical</th>\n",
              "      <th>purpose_of_loan_moving</th>\n",
              "      <th>purpose_of_loan_other</th>\n",
              "      <th>purpose_of_loan_renewable_energy</th>\n",
              "      <th>purpose_of_loan_small_business</th>\n",
              "      <th>purpose_of_loan_vacation</th>\n",
              "      <th>purpose_of_loan_wedding</th>\n",
              "      <th>gender_male</th>\n",
              "    </tr>\n",
              "  </thead>\n",
              "  <tbody>\n",
              "    <tr>\n",
              "      <th>12829</th>\n",
              "      <td>5000</td>\n",
              "      <td>60000.0</td>\n",
              "      <td>11.81</td>\n",
              "      <td>1</td>\n",
              "      <td>0.000000</td>\n",
              "      <td>11</td>\n",
              "      <td>34</td>\n",
              "      <td>0.0</td>\n",
              "      <td>0.0</td>\n",
              "      <td>0.0</td>\n",
              "      <td>...</td>\n",
              "      <td>0.0</td>\n",
              "      <td>0.0</td>\n",
              "      <td>0.0</td>\n",
              "      <td>0.0</td>\n",
              "      <td>0.0</td>\n",
              "      <td>0.0</td>\n",
              "      <td>0.0</td>\n",
              "      <td>0.0</td>\n",
              "      <td>0.0</td>\n",
              "      <td>1.0</td>\n",
              "    </tr>\n",
              "    <tr>\n",
              "      <th>66004</th>\n",
              "      <td>5000</td>\n",
              "      <td>64000.0</td>\n",
              "      <td>24.49</td>\n",
              "      <td>0</td>\n",
              "      <td>34.229356</td>\n",
              "      <td>11</td>\n",
              "      <td>34</td>\n",
              "      <td>0.0</td>\n",
              "      <td>1.0</td>\n",
              "      <td>0.0</td>\n",
              "      <td>...</td>\n",
              "      <td>0.0</td>\n",
              "      <td>0.0</td>\n",
              "      <td>0.0</td>\n",
              "      <td>1.0</td>\n",
              "      <td>0.0</td>\n",
              "      <td>0.0</td>\n",
              "      <td>0.0</td>\n",
              "      <td>0.0</td>\n",
              "      <td>0.0</td>\n",
              "      <td>0.0</td>\n",
              "    </tr>\n",
              "    <tr>\n",
              "      <th>52565</th>\n",
              "      <td>19400</td>\n",
              "      <td>135000.0</td>\n",
              "      <td>15.96</td>\n",
              "      <td>0</td>\n",
              "      <td>5.000000</td>\n",
              "      <td>11</td>\n",
              "      <td>26</td>\n",
              "      <td>0.0</td>\n",
              "      <td>0.0</td>\n",
              "      <td>0.0</td>\n",
              "      <td>...</td>\n",
              "      <td>0.0</td>\n",
              "      <td>0.0</td>\n",
              "      <td>0.0</td>\n",
              "      <td>0.0</td>\n",
              "      <td>0.0</td>\n",
              "      <td>0.0</td>\n",
              "      <td>0.0</td>\n",
              "      <td>0.0</td>\n",
              "      <td>0.0</td>\n",
              "      <td>1.0</td>\n",
              "    </tr>\n",
              "    <tr>\n",
              "      <th>153795</th>\n",
              "      <td>17500</td>\n",
              "      <td>60500.0</td>\n",
              "      <td>29.63</td>\n",
              "      <td>1</td>\n",
              "      <td>34.229356</td>\n",
              "      <td>22</td>\n",
              "      <td>40</td>\n",
              "      <td>0.0</td>\n",
              "      <td>0.0</td>\n",
              "      <td>0.0</td>\n",
              "      <td>...</td>\n",
              "      <td>0.0</td>\n",
              "      <td>0.0</td>\n",
              "      <td>0.0</td>\n",
              "      <td>0.0</td>\n",
              "      <td>0.0</td>\n",
              "      <td>0.0</td>\n",
              "      <td>0.0</td>\n",
              "      <td>0.0</td>\n",
              "      <td>0.0</td>\n",
              "      <td>1.0</td>\n",
              "    </tr>\n",
              "    <tr>\n",
              "      <th>11403</th>\n",
              "      <td>10000</td>\n",
              "      <td>42000.0</td>\n",
              "      <td>7.46</td>\n",
              "      <td>0</td>\n",
              "      <td>34.229356</td>\n",
              "      <td>6</td>\n",
              "      <td>17</td>\n",
              "      <td>0.0</td>\n",
              "      <td>1.0</td>\n",
              "      <td>0.0</td>\n",
              "      <td>...</td>\n",
              "      <td>0.0</td>\n",
              "      <td>0.0</td>\n",
              "      <td>0.0</td>\n",
              "      <td>0.0</td>\n",
              "      <td>0.0</td>\n",
              "      <td>0.0</td>\n",
              "      <td>0.0</td>\n",
              "      <td>0.0</td>\n",
              "      <td>0.0</td>\n",
              "      <td>1.0</td>\n",
              "    </tr>\n",
              "  </tbody>\n",
              "</table>\n",
              "<p>5 rows × 41 columns</p>\n",
              "</div>\n",
              "      <button class=\"colab-df-convert\" onclick=\"convertToInteractive('df-1fd4d393-00e4-4517-baec-03aad94e6724')\"\n",
              "              title=\"Convert this dataframe to an interactive table.\"\n",
              "              style=\"display:none;\">\n",
              "        \n",
              "  <svg xmlns=\"http://www.w3.org/2000/svg\" height=\"24px\"viewBox=\"0 0 24 24\"\n",
              "       width=\"24px\">\n",
              "    <path d=\"M0 0h24v24H0V0z\" fill=\"none\"/>\n",
              "    <path d=\"M18.56 5.44l.94 2.06.94-2.06 2.06-.94-2.06-.94-.94-2.06-.94 2.06-2.06.94zm-11 1L8.5 8.5l.94-2.06 2.06-.94-2.06-.94L8.5 2.5l-.94 2.06-2.06.94zm10 10l.94 2.06.94-2.06 2.06-.94-2.06-.94-.94-2.06-.94 2.06-2.06.94z\"/><path d=\"M17.41 7.96l-1.37-1.37c-.4-.4-.92-.59-1.43-.59-.52 0-1.04.2-1.43.59L10.3 9.45l-7.72 7.72c-.78.78-.78 2.05 0 2.83L4 21.41c.39.39.9.59 1.41.59.51 0 1.02-.2 1.41-.59l7.78-7.78 2.81-2.81c.8-.78.8-2.07 0-2.86zM5.41 20L4 18.59l7.72-7.72 1.47 1.35L5.41 20z\"/>\n",
              "  </svg>\n",
              "      </button>\n",
              "      \n",
              "  <style>\n",
              "    .colab-df-container {\n",
              "      display:flex;\n",
              "      flex-wrap:wrap;\n",
              "      gap: 12px;\n",
              "    }\n",
              "\n",
              "    .colab-df-convert {\n",
              "      background-color: #E8F0FE;\n",
              "      border: none;\n",
              "      border-radius: 50%;\n",
              "      cursor: pointer;\n",
              "      display: none;\n",
              "      fill: #1967D2;\n",
              "      height: 32px;\n",
              "      padding: 0 0 0 0;\n",
              "      width: 32px;\n",
              "    }\n",
              "\n",
              "    .colab-df-convert:hover {\n",
              "      background-color: #E2EBFA;\n",
              "      box-shadow: 0px 1px 2px rgba(60, 64, 67, 0.3), 0px 1px 3px 1px rgba(60, 64, 67, 0.15);\n",
              "      fill: #174EA6;\n",
              "    }\n",
              "\n",
              "    [theme=dark] .colab-df-convert {\n",
              "      background-color: #3B4455;\n",
              "      fill: #D2E3FC;\n",
              "    }\n",
              "\n",
              "    [theme=dark] .colab-df-convert:hover {\n",
              "      background-color: #434B5C;\n",
              "      box-shadow: 0px 1px 3px 1px rgba(0, 0, 0, 0.15);\n",
              "      filter: drop-shadow(0px 1px 2px rgba(0, 0, 0, 0.3));\n",
              "      fill: #FFFFFF;\n",
              "    }\n",
              "  </style>\n",
              "\n",
              "      <script>\n",
              "        const buttonEl =\n",
              "          document.querySelector('#df-1fd4d393-00e4-4517-baec-03aad94e6724 button.colab-df-convert');\n",
              "        buttonEl.style.display =\n",
              "          google.colab.kernel.accessAllowed ? 'block' : 'none';\n",
              "\n",
              "        async function convertToInteractive(key) {\n",
              "          const element = document.querySelector('#df-1fd4d393-00e4-4517-baec-03aad94e6724');\n",
              "          const dataTable =\n",
              "            await google.colab.kernel.invokeFunction('convertToInteractive',\n",
              "                                                     [key], {});\n",
              "          if (!dataTable) return;\n",
              "\n",
              "          const docLinkHtml = 'Like what you see? Visit the ' +\n",
              "            '<a target=\"_blank\" href=https://colab.research.google.com/notebooks/data_table.ipynb>data table notebook</a>'\n",
              "            + ' to learn more about interactive tables.';\n",
              "          element.innerHTML = '';\n",
              "          dataTable['output_type'] = 'display_data';\n",
              "          await google.colab.output.renderOutput(dataTable, element);\n",
              "          const docLink = document.createElement('div');\n",
              "          docLink.innerHTML = docLinkHtml;\n",
              "          element.appendChild(docLink);\n",
              "        }\n",
              "      </script>\n",
              "    </div>\n",
              "  </div>\n",
              "  "
            ]
          },
          "metadata": {},
          "execution_count": 157
        }
      ]
    },
    {
      "cell_type": "markdown",
      "source": [
        "### Full Dataset"
      ],
      "metadata": {
        "id": "zrlyWm84d_gq"
      }
    },
    {
      "cell_type": "code",
      "source": [
        "# combine the X-train and X-test\n",
        "df_encode = pd.concat([X_train_encode, X_test_encode], axis=0)\n",
        "\n",
        "# combine with the y-train\n",
        "df_encode = df_encode.join(pd.Series(y_train_encode, name='Interest_Rate', index=X_train_encode.index), lsuffix='_1', rsuffix='_2')\n",
        "\n",
        "# combine with the y-test\n",
        "df_encode = df_encode.join(pd.Series(y_test_encode, name='Interest_Rate', index=X_test_encode.index), lsuffix='_1', rsuffix='_2')\n",
        "\n",
        "# merging the y-train and y-test column\n",
        "df_encode['Interest_Rate_1'].fillna(df_encode['Interest_Rate_2'], inplace=True)\n",
        "df_encode.drop(columns='Interest_Rate_2', inplace=True)\n",
        "df_encode.rename(columns={'Interest_Rate_1':'Interest_Rate'}, inplace=True)\n",
        "\n",
        "df_encode.head()"
      ],
      "metadata": {
        "colab": {
          "base_uri": "https://localhost:8080/",
          "height": 300
        },
        "id": "-Q16iYWheBvI",
        "outputId": "761222af-cf66-4f3d-dfa8-0989cda72de2"
      },
      "execution_count": 158,
      "outputs": [
        {
          "output_type": "execute_result",
          "data": {
            "text/plain": [
              "        Loan_Amount_Requested  Annual_Income  Debt_To_Income  \\\n",
              "89886                   10050   73331.159434           28.47   \n",
              "90538                   15000   42500.000000           22.25   \n",
              "32854                    5875   30000.000000           27.56   \n",
              "116057                   6000  380000.000000            8.94   \n",
              "61991                   15000   49000.000000           16.39   \n",
              "\n",
              "        Inquiries_Last_6Mo  Months_Since_Deliquency  Number_Open_Accounts  \\\n",
              "89886                    0                34.229356                     7   \n",
              "90538                    0                15.000000                    12   \n",
              "32854                    1                34.229356                    11   \n",
              "116057                   1                47.000000                    13   \n",
              "61991                    1                34.229356                     8   \n",
              "\n",
              "        Total_Accounts  length_employed_1_year  length_employed_10+_years  \\\n",
              "89886               15                     0.0                        0.0   \n",
              "90538               25                     0.0                        0.0   \n",
              "32854               13                     0.0                        0.0   \n",
              "116057              34                     0.0                        0.0   \n",
              "61991               14                     0.0                        0.0   \n",
              "\n",
              "        length_employed_2_years  ...  purpose_of_loan_major_purchase  \\\n",
              "89886                       1.0  ...                             0.0   \n",
              "90538                       0.0  ...                             0.0   \n",
              "32854                       0.0  ...                             0.0   \n",
              "116057                      0.0  ...                             1.0   \n",
              "61991                       0.0  ...                             0.0   \n",
              "\n",
              "        purpose_of_loan_medical  purpose_of_loan_moving  \\\n",
              "89886                       0.0                     0.0   \n",
              "90538                       0.0                     0.0   \n",
              "32854                       0.0                     0.0   \n",
              "116057                      0.0                     0.0   \n",
              "61991                       0.0                     0.0   \n",
              "\n",
              "        purpose_of_loan_other  purpose_of_loan_renewable_energy  \\\n",
              "89886                     0.0                               0.0   \n",
              "90538                     0.0                               0.0   \n",
              "32854                     0.0                               0.0   \n",
              "116057                    0.0                               0.0   \n",
              "61991                     0.0                               0.0   \n",
              "\n",
              "        purpose_of_loan_small_business  purpose_of_loan_vacation  \\\n",
              "89886                              0.0                       0.0   \n",
              "90538                              0.0                       0.0   \n",
              "32854                              0.0                       0.0   \n",
              "116057                             0.0                       0.0   \n",
              "61991                              0.0                       0.0   \n",
              "\n",
              "        purpose_of_loan_wedding  gender_male  Interest_Rate  \n",
              "89886                       0.0          1.0            1.0  \n",
              "90538                       1.0          0.0            1.0  \n",
              "32854                       0.0          1.0            2.0  \n",
              "116057                      0.0          0.0            1.0  \n",
              "61991                       0.0          1.0            2.0  \n",
              "\n",
              "[5 rows x 42 columns]"
            ],
            "text/html": [
              "\n",
              "  <div id=\"df-14d3bf2c-30e0-48de-8fdd-386597e24371\">\n",
              "    <div class=\"colab-df-container\">\n",
              "      <div>\n",
              "<style scoped>\n",
              "    .dataframe tbody tr th:only-of-type {\n",
              "        vertical-align: middle;\n",
              "    }\n",
              "\n",
              "    .dataframe tbody tr th {\n",
              "        vertical-align: top;\n",
              "    }\n",
              "\n",
              "    .dataframe thead th {\n",
              "        text-align: right;\n",
              "    }\n",
              "</style>\n",
              "<table border=\"1\" class=\"dataframe\">\n",
              "  <thead>\n",
              "    <tr style=\"text-align: right;\">\n",
              "      <th></th>\n",
              "      <th>Loan_Amount_Requested</th>\n",
              "      <th>Annual_Income</th>\n",
              "      <th>Debt_To_Income</th>\n",
              "      <th>Inquiries_Last_6Mo</th>\n",
              "      <th>Months_Since_Deliquency</th>\n",
              "      <th>Number_Open_Accounts</th>\n",
              "      <th>Total_Accounts</th>\n",
              "      <th>length_employed_1_year</th>\n",
              "      <th>length_employed_10+_years</th>\n",
              "      <th>length_employed_2_years</th>\n",
              "      <th>...</th>\n",
              "      <th>purpose_of_loan_major_purchase</th>\n",
              "      <th>purpose_of_loan_medical</th>\n",
              "      <th>purpose_of_loan_moving</th>\n",
              "      <th>purpose_of_loan_other</th>\n",
              "      <th>purpose_of_loan_renewable_energy</th>\n",
              "      <th>purpose_of_loan_small_business</th>\n",
              "      <th>purpose_of_loan_vacation</th>\n",
              "      <th>purpose_of_loan_wedding</th>\n",
              "      <th>gender_male</th>\n",
              "      <th>Interest_Rate</th>\n",
              "    </tr>\n",
              "  </thead>\n",
              "  <tbody>\n",
              "    <tr>\n",
              "      <th>89886</th>\n",
              "      <td>10050</td>\n",
              "      <td>73331.159434</td>\n",
              "      <td>28.47</td>\n",
              "      <td>0</td>\n",
              "      <td>34.229356</td>\n",
              "      <td>7</td>\n",
              "      <td>15</td>\n",
              "      <td>0.0</td>\n",
              "      <td>0.0</td>\n",
              "      <td>1.0</td>\n",
              "      <td>...</td>\n",
              "      <td>0.0</td>\n",
              "      <td>0.0</td>\n",
              "      <td>0.0</td>\n",
              "      <td>0.0</td>\n",
              "      <td>0.0</td>\n",
              "      <td>0.0</td>\n",
              "      <td>0.0</td>\n",
              "      <td>0.0</td>\n",
              "      <td>1.0</td>\n",
              "      <td>1.0</td>\n",
              "    </tr>\n",
              "    <tr>\n",
              "      <th>90538</th>\n",
              "      <td>15000</td>\n",
              "      <td>42500.000000</td>\n",
              "      <td>22.25</td>\n",
              "      <td>0</td>\n",
              "      <td>15.000000</td>\n",
              "      <td>12</td>\n",
              "      <td>25</td>\n",
              "      <td>0.0</td>\n",
              "      <td>0.0</td>\n",
              "      <td>0.0</td>\n",
              "      <td>...</td>\n",
              "      <td>0.0</td>\n",
              "      <td>0.0</td>\n",
              "      <td>0.0</td>\n",
              "      <td>0.0</td>\n",
              "      <td>0.0</td>\n",
              "      <td>0.0</td>\n",
              "      <td>0.0</td>\n",
              "      <td>1.0</td>\n",
              "      <td>0.0</td>\n",
              "      <td>1.0</td>\n",
              "    </tr>\n",
              "    <tr>\n",
              "      <th>32854</th>\n",
              "      <td>5875</td>\n",
              "      <td>30000.000000</td>\n",
              "      <td>27.56</td>\n",
              "      <td>1</td>\n",
              "      <td>34.229356</td>\n",
              "      <td>11</td>\n",
              "      <td>13</td>\n",
              "      <td>0.0</td>\n",
              "      <td>0.0</td>\n",
              "      <td>0.0</td>\n",
              "      <td>...</td>\n",
              "      <td>0.0</td>\n",
              "      <td>0.0</td>\n",
              "      <td>0.0</td>\n",
              "      <td>0.0</td>\n",
              "      <td>0.0</td>\n",
              "      <td>0.0</td>\n",
              "      <td>0.0</td>\n",
              "      <td>0.0</td>\n",
              "      <td>1.0</td>\n",
              "      <td>2.0</td>\n",
              "    </tr>\n",
              "    <tr>\n",
              "      <th>116057</th>\n",
              "      <td>6000</td>\n",
              "      <td>380000.000000</td>\n",
              "      <td>8.94</td>\n",
              "      <td>1</td>\n",
              "      <td>47.000000</td>\n",
              "      <td>13</td>\n",
              "      <td>34</td>\n",
              "      <td>0.0</td>\n",
              "      <td>0.0</td>\n",
              "      <td>0.0</td>\n",
              "      <td>...</td>\n",
              "      <td>1.0</td>\n",
              "      <td>0.0</td>\n",
              "      <td>0.0</td>\n",
              "      <td>0.0</td>\n",
              "      <td>0.0</td>\n",
              "      <td>0.0</td>\n",
              "      <td>0.0</td>\n",
              "      <td>0.0</td>\n",
              "      <td>0.0</td>\n",
              "      <td>1.0</td>\n",
              "    </tr>\n",
              "    <tr>\n",
              "      <th>61991</th>\n",
              "      <td>15000</td>\n",
              "      <td>49000.000000</td>\n",
              "      <td>16.39</td>\n",
              "      <td>1</td>\n",
              "      <td>34.229356</td>\n",
              "      <td>8</td>\n",
              "      <td>14</td>\n",
              "      <td>0.0</td>\n",
              "      <td>0.0</td>\n",
              "      <td>0.0</td>\n",
              "      <td>...</td>\n",
              "      <td>0.0</td>\n",
              "      <td>0.0</td>\n",
              "      <td>0.0</td>\n",
              "      <td>0.0</td>\n",
              "      <td>0.0</td>\n",
              "      <td>0.0</td>\n",
              "      <td>0.0</td>\n",
              "      <td>0.0</td>\n",
              "      <td>1.0</td>\n",
              "      <td>2.0</td>\n",
              "    </tr>\n",
              "  </tbody>\n",
              "</table>\n",
              "<p>5 rows × 42 columns</p>\n",
              "</div>\n",
              "      <button class=\"colab-df-convert\" onclick=\"convertToInteractive('df-14d3bf2c-30e0-48de-8fdd-386597e24371')\"\n",
              "              title=\"Convert this dataframe to an interactive table.\"\n",
              "              style=\"display:none;\">\n",
              "        \n",
              "  <svg xmlns=\"http://www.w3.org/2000/svg\" height=\"24px\"viewBox=\"0 0 24 24\"\n",
              "       width=\"24px\">\n",
              "    <path d=\"M0 0h24v24H0V0z\" fill=\"none\"/>\n",
              "    <path d=\"M18.56 5.44l.94 2.06.94-2.06 2.06-.94-2.06-.94-.94-2.06-.94 2.06-2.06.94zm-11 1L8.5 8.5l.94-2.06 2.06-.94-2.06-.94L8.5 2.5l-.94 2.06-2.06.94zm10 10l.94 2.06.94-2.06 2.06-.94-2.06-.94-.94-2.06-.94 2.06-2.06.94z\"/><path d=\"M17.41 7.96l-1.37-1.37c-.4-.4-.92-.59-1.43-.59-.52 0-1.04.2-1.43.59L10.3 9.45l-7.72 7.72c-.78.78-.78 2.05 0 2.83L4 21.41c.39.39.9.59 1.41.59.51 0 1.02-.2 1.41-.59l7.78-7.78 2.81-2.81c.8-.78.8-2.07 0-2.86zM5.41 20L4 18.59l7.72-7.72 1.47 1.35L5.41 20z\"/>\n",
              "  </svg>\n",
              "      </button>\n",
              "      \n",
              "  <style>\n",
              "    .colab-df-container {\n",
              "      display:flex;\n",
              "      flex-wrap:wrap;\n",
              "      gap: 12px;\n",
              "    }\n",
              "\n",
              "    .colab-df-convert {\n",
              "      background-color: #E8F0FE;\n",
              "      border: none;\n",
              "      border-radius: 50%;\n",
              "      cursor: pointer;\n",
              "      display: none;\n",
              "      fill: #1967D2;\n",
              "      height: 32px;\n",
              "      padding: 0 0 0 0;\n",
              "      width: 32px;\n",
              "    }\n",
              "\n",
              "    .colab-df-convert:hover {\n",
              "      background-color: #E2EBFA;\n",
              "      box-shadow: 0px 1px 2px rgba(60, 64, 67, 0.3), 0px 1px 3px 1px rgba(60, 64, 67, 0.15);\n",
              "      fill: #174EA6;\n",
              "    }\n",
              "\n",
              "    [theme=dark] .colab-df-convert {\n",
              "      background-color: #3B4455;\n",
              "      fill: #D2E3FC;\n",
              "    }\n",
              "\n",
              "    [theme=dark] .colab-df-convert:hover {\n",
              "      background-color: #434B5C;\n",
              "      box-shadow: 0px 1px 3px 1px rgba(0, 0, 0, 0.15);\n",
              "      filter: drop-shadow(0px 1px 2px rgba(0, 0, 0, 0.3));\n",
              "      fill: #FFFFFF;\n",
              "    }\n",
              "  </style>\n",
              "\n",
              "      <script>\n",
              "        const buttonEl =\n",
              "          document.querySelector('#df-14d3bf2c-30e0-48de-8fdd-386597e24371 button.colab-df-convert');\n",
              "        buttonEl.style.display =\n",
              "          google.colab.kernel.accessAllowed ? 'block' : 'none';\n",
              "\n",
              "        async function convertToInteractive(key) {\n",
              "          const element = document.querySelector('#df-14d3bf2c-30e0-48de-8fdd-386597e24371');\n",
              "          const dataTable =\n",
              "            await google.colab.kernel.invokeFunction('convertToInteractive',\n",
              "                                                     [key], {});\n",
              "          if (!dataTable) return;\n",
              "\n",
              "          const docLinkHtml = 'Like what you see? Visit the ' +\n",
              "            '<a target=\"_blank\" href=https://colab.research.google.com/notebooks/data_table.ipynb>data table notebook</a>'\n",
              "            + ' to learn more about interactive tables.';\n",
              "          element.innerHTML = '';\n",
              "          dataTable['output_type'] = 'display_data';\n",
              "          await google.colab.output.renderOutput(dataTable, element);\n",
              "          const docLink = document.createElement('div');\n",
              "          docLink.innerHTML = docLinkHtml;\n",
              "          element.appendChild(docLink);\n",
              "        }\n",
              "      </script>\n",
              "    </div>\n",
              "  </div>\n",
              "  "
            ]
          },
          "metadata": {},
          "execution_count": 158
        }
      ]
    },
    {
      "cell_type": "code",
      "source": [
        "df_encode_train = pd.concat([X_train_encode, \n",
        "                               pd.Series(y_train_encode, name='Interest_Rate', index=X_train_encode.index)], \n",
        "                              axis=1)\n",
        "df_encode_train.head()"
      ],
      "metadata": {
        "colab": {
          "base_uri": "https://localhost:8080/",
          "height": 300
        },
        "id": "U8GCk2FqefF1",
        "outputId": "f94bcee6-d8fb-40c6-a4b9-5d2426f077c6"
      },
      "execution_count": 159,
      "outputs": [
        {
          "output_type": "execute_result",
          "data": {
            "text/plain": [
              "        Loan_Amount_Requested  Annual_Income  Debt_To_Income  \\\n",
              "89886                   10050   73331.159434           28.47   \n",
              "90538                   15000   42500.000000           22.25   \n",
              "32854                    5875   30000.000000           27.56   \n",
              "116057                   6000  380000.000000            8.94   \n",
              "61991                   15000   49000.000000           16.39   \n",
              "\n",
              "        Inquiries_Last_6Mo  Months_Since_Deliquency  Number_Open_Accounts  \\\n",
              "89886                    0                34.229356                     7   \n",
              "90538                    0                15.000000                    12   \n",
              "32854                    1                34.229356                    11   \n",
              "116057                   1                47.000000                    13   \n",
              "61991                    1                34.229356                     8   \n",
              "\n",
              "        Total_Accounts  length_employed_1_year  length_employed_10+_years  \\\n",
              "89886               15                     0.0                        0.0   \n",
              "90538               25                     0.0                        0.0   \n",
              "32854               13                     0.0                        0.0   \n",
              "116057              34                     0.0                        0.0   \n",
              "61991               14                     0.0                        0.0   \n",
              "\n",
              "        length_employed_2_years  ...  purpose_of_loan_major_purchase  \\\n",
              "89886                       1.0  ...                             0.0   \n",
              "90538                       0.0  ...                             0.0   \n",
              "32854                       0.0  ...                             0.0   \n",
              "116057                      0.0  ...                             1.0   \n",
              "61991                       0.0  ...                             0.0   \n",
              "\n",
              "        purpose_of_loan_medical  purpose_of_loan_moving  \\\n",
              "89886                       0.0                     0.0   \n",
              "90538                       0.0                     0.0   \n",
              "32854                       0.0                     0.0   \n",
              "116057                      0.0                     0.0   \n",
              "61991                       0.0                     0.0   \n",
              "\n",
              "        purpose_of_loan_other  purpose_of_loan_renewable_energy  \\\n",
              "89886                     0.0                               0.0   \n",
              "90538                     0.0                               0.0   \n",
              "32854                     0.0                               0.0   \n",
              "116057                    0.0                               0.0   \n",
              "61991                     0.0                               0.0   \n",
              "\n",
              "        purpose_of_loan_small_business  purpose_of_loan_vacation  \\\n",
              "89886                              0.0                       0.0   \n",
              "90538                              0.0                       0.0   \n",
              "32854                              0.0                       0.0   \n",
              "116057                             0.0                       0.0   \n",
              "61991                              0.0                       0.0   \n",
              "\n",
              "        purpose_of_loan_wedding  gender_male  Interest_Rate  \n",
              "89886                       0.0          1.0              1  \n",
              "90538                       1.0          0.0              1  \n",
              "32854                       0.0          1.0              2  \n",
              "116057                      0.0          0.0              1  \n",
              "61991                       0.0          1.0              2  \n",
              "\n",
              "[5 rows x 42 columns]"
            ],
            "text/html": [
              "\n",
              "  <div id=\"df-376f84fd-874d-4dbb-ab05-09f482ced781\">\n",
              "    <div class=\"colab-df-container\">\n",
              "      <div>\n",
              "<style scoped>\n",
              "    .dataframe tbody tr th:only-of-type {\n",
              "        vertical-align: middle;\n",
              "    }\n",
              "\n",
              "    .dataframe tbody tr th {\n",
              "        vertical-align: top;\n",
              "    }\n",
              "\n",
              "    .dataframe thead th {\n",
              "        text-align: right;\n",
              "    }\n",
              "</style>\n",
              "<table border=\"1\" class=\"dataframe\">\n",
              "  <thead>\n",
              "    <tr style=\"text-align: right;\">\n",
              "      <th></th>\n",
              "      <th>Loan_Amount_Requested</th>\n",
              "      <th>Annual_Income</th>\n",
              "      <th>Debt_To_Income</th>\n",
              "      <th>Inquiries_Last_6Mo</th>\n",
              "      <th>Months_Since_Deliquency</th>\n",
              "      <th>Number_Open_Accounts</th>\n",
              "      <th>Total_Accounts</th>\n",
              "      <th>length_employed_1_year</th>\n",
              "      <th>length_employed_10+_years</th>\n",
              "      <th>length_employed_2_years</th>\n",
              "      <th>...</th>\n",
              "      <th>purpose_of_loan_major_purchase</th>\n",
              "      <th>purpose_of_loan_medical</th>\n",
              "      <th>purpose_of_loan_moving</th>\n",
              "      <th>purpose_of_loan_other</th>\n",
              "      <th>purpose_of_loan_renewable_energy</th>\n",
              "      <th>purpose_of_loan_small_business</th>\n",
              "      <th>purpose_of_loan_vacation</th>\n",
              "      <th>purpose_of_loan_wedding</th>\n",
              "      <th>gender_male</th>\n",
              "      <th>Interest_Rate</th>\n",
              "    </tr>\n",
              "  </thead>\n",
              "  <tbody>\n",
              "    <tr>\n",
              "      <th>89886</th>\n",
              "      <td>10050</td>\n",
              "      <td>73331.159434</td>\n",
              "      <td>28.47</td>\n",
              "      <td>0</td>\n",
              "      <td>34.229356</td>\n",
              "      <td>7</td>\n",
              "      <td>15</td>\n",
              "      <td>0.0</td>\n",
              "      <td>0.0</td>\n",
              "      <td>1.0</td>\n",
              "      <td>...</td>\n",
              "      <td>0.0</td>\n",
              "      <td>0.0</td>\n",
              "      <td>0.0</td>\n",
              "      <td>0.0</td>\n",
              "      <td>0.0</td>\n",
              "      <td>0.0</td>\n",
              "      <td>0.0</td>\n",
              "      <td>0.0</td>\n",
              "      <td>1.0</td>\n",
              "      <td>1</td>\n",
              "    </tr>\n",
              "    <tr>\n",
              "      <th>90538</th>\n",
              "      <td>15000</td>\n",
              "      <td>42500.000000</td>\n",
              "      <td>22.25</td>\n",
              "      <td>0</td>\n",
              "      <td>15.000000</td>\n",
              "      <td>12</td>\n",
              "      <td>25</td>\n",
              "      <td>0.0</td>\n",
              "      <td>0.0</td>\n",
              "      <td>0.0</td>\n",
              "      <td>...</td>\n",
              "      <td>0.0</td>\n",
              "      <td>0.0</td>\n",
              "      <td>0.0</td>\n",
              "      <td>0.0</td>\n",
              "      <td>0.0</td>\n",
              "      <td>0.0</td>\n",
              "      <td>0.0</td>\n",
              "      <td>1.0</td>\n",
              "      <td>0.0</td>\n",
              "      <td>1</td>\n",
              "    </tr>\n",
              "    <tr>\n",
              "      <th>32854</th>\n",
              "      <td>5875</td>\n",
              "      <td>30000.000000</td>\n",
              "      <td>27.56</td>\n",
              "      <td>1</td>\n",
              "      <td>34.229356</td>\n",
              "      <td>11</td>\n",
              "      <td>13</td>\n",
              "      <td>0.0</td>\n",
              "      <td>0.0</td>\n",
              "      <td>0.0</td>\n",
              "      <td>...</td>\n",
              "      <td>0.0</td>\n",
              "      <td>0.0</td>\n",
              "      <td>0.0</td>\n",
              "      <td>0.0</td>\n",
              "      <td>0.0</td>\n",
              "      <td>0.0</td>\n",
              "      <td>0.0</td>\n",
              "      <td>0.0</td>\n",
              "      <td>1.0</td>\n",
              "      <td>2</td>\n",
              "    </tr>\n",
              "    <tr>\n",
              "      <th>116057</th>\n",
              "      <td>6000</td>\n",
              "      <td>380000.000000</td>\n",
              "      <td>8.94</td>\n",
              "      <td>1</td>\n",
              "      <td>47.000000</td>\n",
              "      <td>13</td>\n",
              "      <td>34</td>\n",
              "      <td>0.0</td>\n",
              "      <td>0.0</td>\n",
              "      <td>0.0</td>\n",
              "      <td>...</td>\n",
              "      <td>1.0</td>\n",
              "      <td>0.0</td>\n",
              "      <td>0.0</td>\n",
              "      <td>0.0</td>\n",
              "      <td>0.0</td>\n",
              "      <td>0.0</td>\n",
              "      <td>0.0</td>\n",
              "      <td>0.0</td>\n",
              "      <td>0.0</td>\n",
              "      <td>1</td>\n",
              "    </tr>\n",
              "    <tr>\n",
              "      <th>61991</th>\n",
              "      <td>15000</td>\n",
              "      <td>49000.000000</td>\n",
              "      <td>16.39</td>\n",
              "      <td>1</td>\n",
              "      <td>34.229356</td>\n",
              "      <td>8</td>\n",
              "      <td>14</td>\n",
              "      <td>0.0</td>\n",
              "      <td>0.0</td>\n",
              "      <td>0.0</td>\n",
              "      <td>...</td>\n",
              "      <td>0.0</td>\n",
              "      <td>0.0</td>\n",
              "      <td>0.0</td>\n",
              "      <td>0.0</td>\n",
              "      <td>0.0</td>\n",
              "      <td>0.0</td>\n",
              "      <td>0.0</td>\n",
              "      <td>0.0</td>\n",
              "      <td>1.0</td>\n",
              "      <td>2</td>\n",
              "    </tr>\n",
              "  </tbody>\n",
              "</table>\n",
              "<p>5 rows × 42 columns</p>\n",
              "</div>\n",
              "      <button class=\"colab-df-convert\" onclick=\"convertToInteractive('df-376f84fd-874d-4dbb-ab05-09f482ced781')\"\n",
              "              title=\"Convert this dataframe to an interactive table.\"\n",
              "              style=\"display:none;\">\n",
              "        \n",
              "  <svg xmlns=\"http://www.w3.org/2000/svg\" height=\"24px\"viewBox=\"0 0 24 24\"\n",
              "       width=\"24px\">\n",
              "    <path d=\"M0 0h24v24H0V0z\" fill=\"none\"/>\n",
              "    <path d=\"M18.56 5.44l.94 2.06.94-2.06 2.06-.94-2.06-.94-.94-2.06-.94 2.06-2.06.94zm-11 1L8.5 8.5l.94-2.06 2.06-.94-2.06-.94L8.5 2.5l-.94 2.06-2.06.94zm10 10l.94 2.06.94-2.06 2.06-.94-2.06-.94-.94-2.06-.94 2.06-2.06.94z\"/><path d=\"M17.41 7.96l-1.37-1.37c-.4-.4-.92-.59-1.43-.59-.52 0-1.04.2-1.43.59L10.3 9.45l-7.72 7.72c-.78.78-.78 2.05 0 2.83L4 21.41c.39.39.9.59 1.41.59.51 0 1.02-.2 1.41-.59l7.78-7.78 2.81-2.81c.8-.78.8-2.07 0-2.86zM5.41 20L4 18.59l7.72-7.72 1.47 1.35L5.41 20z\"/>\n",
              "  </svg>\n",
              "      </button>\n",
              "      \n",
              "  <style>\n",
              "    .colab-df-container {\n",
              "      display:flex;\n",
              "      flex-wrap:wrap;\n",
              "      gap: 12px;\n",
              "    }\n",
              "\n",
              "    .colab-df-convert {\n",
              "      background-color: #E8F0FE;\n",
              "      border: none;\n",
              "      border-radius: 50%;\n",
              "      cursor: pointer;\n",
              "      display: none;\n",
              "      fill: #1967D2;\n",
              "      height: 32px;\n",
              "      padding: 0 0 0 0;\n",
              "      width: 32px;\n",
              "    }\n",
              "\n",
              "    .colab-df-convert:hover {\n",
              "      background-color: #E2EBFA;\n",
              "      box-shadow: 0px 1px 2px rgba(60, 64, 67, 0.3), 0px 1px 3px 1px rgba(60, 64, 67, 0.15);\n",
              "      fill: #174EA6;\n",
              "    }\n",
              "\n",
              "    [theme=dark] .colab-df-convert {\n",
              "      background-color: #3B4455;\n",
              "      fill: #D2E3FC;\n",
              "    }\n",
              "\n",
              "    [theme=dark] .colab-df-convert:hover {\n",
              "      background-color: #434B5C;\n",
              "      box-shadow: 0px 1px 3px 1px rgba(0, 0, 0, 0.15);\n",
              "      filter: drop-shadow(0px 1px 2px rgba(0, 0, 0, 0.3));\n",
              "      fill: #FFFFFF;\n",
              "    }\n",
              "  </style>\n",
              "\n",
              "      <script>\n",
              "        const buttonEl =\n",
              "          document.querySelector('#df-376f84fd-874d-4dbb-ab05-09f482ced781 button.colab-df-convert');\n",
              "        buttonEl.style.display =\n",
              "          google.colab.kernel.accessAllowed ? 'block' : 'none';\n",
              "\n",
              "        async function convertToInteractive(key) {\n",
              "          const element = document.querySelector('#df-376f84fd-874d-4dbb-ab05-09f482ced781');\n",
              "          const dataTable =\n",
              "            await google.colab.kernel.invokeFunction('convertToInteractive',\n",
              "                                                     [key], {});\n",
              "          if (!dataTable) return;\n",
              "\n",
              "          const docLinkHtml = 'Like what you see? Visit the ' +\n",
              "            '<a target=\"_blank\" href=https://colab.research.google.com/notebooks/data_table.ipynb>data table notebook</a>'\n",
              "            + ' to learn more about interactive tables.';\n",
              "          element.innerHTML = '';\n",
              "          dataTable['output_type'] = 'display_data';\n",
              "          await google.colab.output.renderOutput(dataTable, element);\n",
              "          const docLink = document.createElement('div');\n",
              "          docLink.innerHTML = docLinkHtml;\n",
              "          element.appendChild(docLink);\n",
              "        }\n",
              "      </script>\n",
              "    </div>\n",
              "  </div>\n",
              "  "
            ]
          },
          "metadata": {},
          "execution_count": 159
        }
      ]
    },
    {
      "cell_type": "markdown",
      "source": [
        "### Oversampling with SMOTE"
      ],
      "metadata": {
        "id": "O3f0f74vfNg7"
      }
    },
    {
      "cell_type": "markdown",
      "source": [
        "This dataset is imbalanced. To get this dataset balanced, I decide to use SMOTE, one of the oversampling methods.\n",
        "\n",
        "Note: Oversampling should only be performed on the train set."
      ],
      "metadata": {
        "id": "TM5SM6I1flCy"
      }
    },
    {
      "cell_type": "code",
      "source": [
        "smote = SMOTE(random_state=1)\n",
        "\n",
        "X_train_smote, y_train_smote = smote.fit_resample(X_train_encode, y_train_encode)\n",
        "\n",
        "X_train_smote_df = pd.DataFrame(X_train_smote, columns=X_train_smote.columns)\n",
        "y_train_smote_df = pd.DataFrame(y_train_smote, columns=['Interest_Rate'])\n",
        "\n",
        "df_smote = pd.concat([X_train_smote_df, y_train_smote_df], axis=1)"
      ],
      "metadata": {
        "id": "D0KbvYocgBXn"
      },
      "execution_count": 160,
      "outputs": []
    },
    {
      "cell_type": "code",
      "source": [
        "df_encode_train['Interest_Rate'].value_counts()"
      ],
      "metadata": {
        "colab": {
          "base_uri": "https://localhost:8080/"
        },
        "id": "hqvFTIBAgyX0",
        "outputId": "9322a856-3c63-4d39-89d2-b712087a5a74"
      },
      "execution_count": 161,
      "outputs": [
        {
          "output_type": "execute_result",
          "data": {
            "text/plain": [
              "1    49406\n",
              "2    41946\n",
              "0    23664\n",
              "Name: Interest_Rate, dtype: int64"
            ]
          },
          "metadata": {},
          "execution_count": 161
        }
      ]
    },
    {
      "cell_type": "code",
      "source": [
        "df_smote['Interest_Rate'].value_counts()"
      ],
      "metadata": {
        "colab": {
          "base_uri": "https://localhost:8080/"
        },
        "id": "3NAnGNOEg2SK",
        "outputId": "e54b1412-023d-46c9-cc84-90f8e53601f6"
      },
      "execution_count": 162,
      "outputs": [
        {
          "output_type": "execute_result",
          "data": {
            "text/plain": [
              "1    49406\n",
              "2    49406\n",
              "0    49406\n",
              "Name: Interest_Rate, dtype: int64"
            ]
          },
          "metadata": {},
          "execution_count": 162
        }
      ]
    },
    {
      "cell_type": "code",
      "source": [
        "interest_rate_df_smote = df_smote.groupby(['Interest_Rate']).size()\n",
        "\n",
        "my_labels = '1','2','3'\n",
        "plt.pie(interest_rate_df_smote,labels=my_labels,autopct='%1.1f%%')\n",
        "plt.title('Interest Rate')\n",
        "plt.axis('equal')\n",
        "plt.show()"
      ],
      "metadata": {
        "colab": {
          "base_uri": "https://localhost:8080/",
          "height": 264
        },
        "id": "h7oYbsVUhE55",
        "outputId": "429047a1-f96a-4b71-e0ce-8082eaebffe8"
      },
      "execution_count": 163,
      "outputs": [
        {
          "output_type": "display_data",
          "data": {
            "text/plain": [
              "<Figure size 432x288 with 1 Axes>"
            ],
            "image/png": "[encoded data removed]"
          },
          "metadata": {}
        }
      ]
    },
    {
      "cell_type": "markdown",
      "source": [
        "## Model Development"
      ],
      "metadata": {
        "id": "Z0u9RI-CjjQg"
      }
    },
    {
      "cell_type": "markdown",
      "source": [
        "Use 3 ML algorithm:\n",
        "  - Catboost\n",
        "  - XGBoost\n",
        "  - LightGBM\n"
      ],
      "metadata": {
        "id": "EUHksXwFjlxW"
      }
    },
    {
      "cell_type": "code",
      "source": [
        "model_list = {\n",
        "    'CatBoost':CatBoostClassifier(random_state=1, verbose=False),\n",
        "    'XGBoost':XGBClassifier(random_state=1, use_label_encoder=False, eval_metric='logloss'),\n",
        "    'LightGBM':LGBMClassifier(random_state=1),\n",
        "}\n",
        "\n",
        "X_train_model = X_train_smote.copy()\n",
        "y_train_model = y_train_smote.copy()\n",
        "\n",
        "X_test_model = X_test_encode.copy()\n",
        "y_test_model = y_test_encode.copy()"
      ],
      "metadata": {
        "id": "5jgkARTONMbD"
      },
      "execution_count": 164,
      "outputs": []
    },
    {
      "cell_type": "code",
      "source": [
        "model_list['CatBoost'].fit(X_train_model, y_train_model)\n",
        "y_pred = model_list['CatBoost'].predict(X_test_model)\n",
        "\n",
        "print(classification_report(y_test_model, y_pred, digits=3))"
      ],
      "metadata": {
        "colab": {
          "base_uri": "https://localhost:8080/"
        },
        "id": "clAHADlqljox",
        "outputId": "f5819cfe-ca22-4ff0-db26-b9b85bf41ad7"
      },
      "execution_count": 165,
      "outputs": [
        {
          "output_type": "stream",
          "name": "stdout",
          "text": [
            "              precision    recall  f1-score   support\n",
            "\n",
            "           0      0.511     0.307     0.383     10142\n",
            "           1      0.509     0.615     0.557     21174\n",
            "           2      0.599     0.588     0.593     17977\n",
            "\n",
            "    accuracy                          0.542     49293\n",
            "   macro avg      0.540     0.503     0.511     49293\n",
            "weighted avg      0.542     0.542     0.535     49293\n",
            "\n"
          ]
        }
      ]
    },
    {
      "cell_type": "code",
      "source": [
        "model_list['XGBoost'].fit(X_train_model, y_train_model)\n",
        "y_pred = model_list['XGBoost'].predict(X_test_model)\n",
        "\n",
        "print(classification_report(y_test_model, y_pred, digits=3))"
      ],
      "metadata": {
        "colab": {
          "base_uri": "https://localhost:8080/"
        },
        "id": "bPk5VxoNl2Hf",
        "outputId": "978a40bd-4ad3-4803-df14-c219a47befad"
      },
      "execution_count": 166,
      "outputs": [
        {
          "output_type": "stream",
          "name": "stdout",
          "text": [
            "              precision    recall  f1-score   support\n",
            "\n",
            "           0      0.495     0.249     0.331     10142\n",
            "           1      0.495     0.622     0.551     21174\n",
            "           2      0.578     0.565     0.572     17977\n",
            "\n",
            "    accuracy                          0.525     49293\n",
            "   macro avg      0.523     0.479     0.485     49293\n",
            "weighted avg      0.525     0.525     0.514     49293\n",
            "\n"
          ]
        }
      ]
    },
    {
      "cell_type": "code",
      "source": [
        "model_list['LightGBM'].fit(X_train_model, y_train_model)\n",
        "y_pred = model_list['LightGBM'].predict(X_test_model)\n",
        "\n",
        "print(classification_report(y_test_model, y_pred, digits=3))"
      ],
      "metadata": {
        "colab": {
          "base_uri": "https://localhost:8080/"
        },
        "id": "Luhl3E0il7_T",
        "outputId": "27da7321-c2fc-4b22-c098-2b7a88a5baca"
      },
      "execution_count": 167,
      "outputs": [
        {
          "output_type": "stream",
          "name": "stdout",
          "text": [
            "              precision    recall  f1-score   support\n",
            "\n",
            "           0      0.518     0.278     0.362     10142\n",
            "           1      0.504     0.620     0.556     21174\n",
            "           2      0.591     0.584     0.588     17977\n",
            "\n",
            "    accuracy                          0.537     49293\n",
            "   macro avg      0.538     0.494     0.502     49293\n",
            "weighted avg      0.538     0.537     0.528     49293\n",
            "\n"
          ]
        }
      ]
    },
    {
      "cell_type": "markdown",
      "source": [
        "Use all variants of gradient boosting algorithms in scope (CatBoost, XGBoost, and LightGBM). Gradient boosting algorithms can be a Regressor (predicting continuous target variables) or a Classifier (predicting categorical target variables). \n",
        "\n",
        "These models shows accuracy in around 52% - 54%. It's not good enough performance ML model because the accuracy is still less than 70%.\n",
        "\n",
        "It happens because the correlation between each features with target class is low. And probably do some feature engineering furthermore."
      ],
      "metadata": {
        "id": "mi4RZjXYQrt0"
      }
    },
    {
      "cell_type": "markdown",
      "source": [
        "## Conclusion & Recommendation:\n",
        "- From the accuracy ML model, we still know the ML model that I build is not recommended to implement, because it shows low accuracy in around 52% - 54%. Yet, My hypothesis is this dataset is still not usable to implement machine learning models, because it seen from the correlation between each features and the target class is still low. My recommendation is do some another feature engineering that can make accuracy higher.\n",
        "\n",
        "- Target more on the customer who has source of income has been verified with the employee's length of service is 10 years and above, because employees with more than 10 years of work have more stable income and have long-term savings.\n",
        "\n",
        "- Give interest discounts to customers that mortgage their home-owner status to trigger them to take long-term loans.\n",
        "\n",
        "- Since the loan purpose of most customers is debt consolidation, we can consider giving them a discounted interest and long-term installment for them to choose a loan at our bank.\n"
      ],
      "metadata": {
        "id": "inppxBKQTbxn"
      }
    }
  ]
}